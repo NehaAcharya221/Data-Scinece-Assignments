{
 "cells": [
  {
   "cell_type": "markdown",
   "id": "1cde0ff8-42bd-4b06-b83e-4a9dc2ef6700",
   "metadata": {},
   "source": [
    "#### Q1.What is multithreading in python? Why is it used? Name the module used to handle threads in python  "
   ]
  },
  {
   "cell_type": "markdown",
   "id": "25b91390-3e93-46f8-abfc-6d73e7ff351a",
   "metadata": {},
   "source": [
    "#### Answer: Multithreading is a threading technique in Python programming to run multiple threads concurrently by rapidly switching between threads with a CPU help (called context switching). "
   ]
  },
  {
   "cell_type": "markdown",
   "id": "326d25d5-8117-45da-a340-235070d75026",
   "metadata": {},
   "source": [
    "#### We use multithreading in Python enables CPUs to run different parts(threads) of a process concurrently to maximize CPU utilization. Multithreading enables CPUs to run different parts(threads) of a process concurrently"
   ]
  },
  {
   "cell_type": "markdown",
   "id": "88be7569-b3b6-4d55-9c3e-ad2228ef1f9e",
   "metadata": {},
   "source": [
    "#### The Threading Module is used to handle threads in python."
   ]
  },
  {
   "cell_type": "markdown",
   "id": "e30eda04-f873-4369-bb0b-98f0c6139025",
   "metadata": {},
   "source": [
    "#### Q2.Why threading module used? Write the use of the following functions:activeCount() currentThread() enumerate() "
   ]
  },
  {
   "cell_type": "markdown",
   "id": "2b149e25-c01c-4917-a027-9e62bf3891e5",
   "metadata": {},
   "source": [
    "#### Answer:The threading module exposes all the methods of the thread module and provides some additional methods."
   ]
  },
  {
   "cell_type": "markdown",
   "id": "67ec615a-2f88-4aef-83f2-353e1aed9ae7",
   "metadata": {},
   "source": [
    "#### threading.activeCount() − Returns the number of thread objects that are active.\n",
    "#### threading.currentThread() − Returns the number of thread objects in the caller's thread control.\n",
    "### threading.enumerate() − Returns a list of all thread objects that are currently active."
   ]
  },
  {
   "cell_type": "markdown",
   "id": "3a45512a-3763-418b-bb97-4d863a4a3c87",
   "metadata": {},
   "source": [
    "#### Q3. Explain the following functions: run(),start(),join(),isAlive() "
   ]
  },
  {
   "cell_type": "markdown",
   "id": "613b11a7-7189-46c4-89be-c212507f1477",
   "metadata": {},
   "source": [
    "#### Answer: \n",
    "#### run() − The run() method is the entry point for a thread.\n",
    "#### start() − The start() method starts a thread by calling the run method.\n",
    "#### join([time]) − The join() waits for threads to terminate.\n",
    "#### isAlive() − The isAlive() method checks whether a thread is still executing."
   ]
  },
  {
   "cell_type": "markdown",
   "id": "6ebd2337-3780-4e28-9f1a-8f250bb9e03f",
   "metadata": {},
   "source": [
    "#### Q4.Write a python program to create two threads.Thread one must print the list of squares and thread two must print the list of cubes  "
   ]
  },
  {
   "cell_type": "code",
   "execution_count": 25,
   "id": "5f625508-e50f-4e73-935a-2aa9298dc2cb",
   "metadata": {},
   "outputs": [
    {
     "name": "stdout",
     "output_type": "stream",
     "text": [
      "[1, 4, 9, 16, 25, 36, 49, 64, 81, 100]\n",
      "[1, 8, 27, 64, 125, 216, 343, 512, 729, 1000]\n",
      "Done!\n"
     ]
    }
   ],
   "source": [
    "import threading\n",
    "import time \n",
    "\n",
    "l1=[1,2,3,4,5,6,7,8,9,10]\n",
    "\n",
    "def print_square(n):\n",
    "    time.sleep(1)\n",
    "    sq=[]\n",
    "    for i in n:\n",
    "        sq.append(i*i)\n",
    "    print(sq)\n",
    "\n",
    "def print_cubes(n):\n",
    "    time.sleep(1)\n",
    "    cu=[]\n",
    "    for i in n:\n",
    "        cu.append(i*i*i)\n",
    "    print(cu)\n",
    "data1=threading.Thread(target=print_square,args=(l1,))\n",
    "data2=threading.Thread(target=print_cubes,args=(l1,))\n",
    "\n",
    "data1.start()\n",
    "data2.start()\n",
    "\n",
    "data1.join()\n",
    "data2.join()\n",
    "\n",
    "print(\"Done!\")"
   ]
  },
  {
   "cell_type": "markdown",
   "id": "ce05c4fa-dfcd-4883-8faf-e9f2be1a5893",
   "metadata": {},
   "source": [
    "#### Q5.State advantages and disadvantages of multithreading  "
   ]
  },
  {
   "cell_type": "markdown",
   "id": "6f63f540-800d-4c49-9b04-6e3cd5192817",
   "metadata": {},
   "source": [
    "#### Answer:Multithreading advantages:\n",
    "#### 1)Improved performance and concurrency\n",
    "#### 2)Simplified coding of remote procedure calls and conversations\n",
    "#### 3)Simultaneous access to multiple applications\n",
    "#### 4)Reduced number of required servers\n",
    "\n",
    "#### Multithreading disadvantages:\n",
    "#### 1)Difficulty of writing code\n",
    "#### 2)Difficulty of debugging\n",
    "#### 3)Difficulty of managing concurrency\n",
    "#### 4)Difficulty of testing\n",
    "#### 5)Difficulty of porting existing code"
   ]
  },
  {
   "cell_type": "markdown",
   "id": "4ed30c4a-9267-4562-992a-c53b8b16ab2b",
   "metadata": {},
   "source": [
    "#### Q6.Explain deadlocks and race conditions"
   ]
  },
  {
   "cell_type": "markdown",
   "id": "f91e8670-3aa3-4478-bf39-ebe6e624d0da",
   "metadata": {},
   "source": [
    "#### Answer:\n",
    "#### deadlock :- A deadlock is when two (or more) threads are blocking each other. Usually this has something to do with threads trying to acquire shared resources. For example if threads T1 and T2 need to acquire both resources A and B in order to do their work. If T1 acquires resource A, then T2 acquires resource B, T1 could then be waiting for resource B while T2 was waiting for resource A. In this case, both threads will wait indefinitely for the resource held by the other thread. These threads are said to be deadlocked.\n",
    "\n",
    "#### Race conditions :-\n",
    "#### Race conditions occur when two threads interact in a negatve (buggy) way depending on the exact order that their different instructions are executed. If one thread sets a global variable, for example, then a second thread reads and modifies that global variable, and the first thread reads the variable, the first thread may experience a bug because the variable has changed unexpectedly."
   ]
  },
  {
   "cell_type": "code",
   "execution_count": null,
   "id": "2689b8d0-522d-4520-a99d-824af4bd8f58",
   "metadata": {},
   "outputs": [],
   "source": []
  }
 ],
 "metadata": {
  "kernelspec": {
   "display_name": "Python 3 (ipykernel)",
   "language": "python",
   "name": "python3"
  },
  "language_info": {
   "codemirror_mode": {
    "name": "ipython",
    "version": 3
   },
   "file_extension": ".py",
   "mimetype": "text/x-python",
   "name": "python",
   "nbconvert_exporter": "python",
   "pygments_lexer": "ipython3",
   "version": "3.10.8"
  }
 },
 "nbformat": 4,
 "nbformat_minor": 5
}

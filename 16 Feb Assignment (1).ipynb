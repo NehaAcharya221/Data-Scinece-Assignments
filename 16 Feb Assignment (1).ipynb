{
 "cells": [
  {
   "cell_type": "markdown",
   "id": "9944b546-e250-4071-ad57-99d13f789459",
   "metadata": {},
   "source": [
    "#### Q1.What is a database? Differentiate between SQL and NoSQL databases."
   ]
  },
  {
   "cell_type": "markdown",
   "id": "d6a26d78-7794-4684-934b-e9f9572ffc28",
   "metadata": {},
   "source": [
    "#### Answer: A database is an organized collection of structured information, or data, typically stored electronically in a computer system. A database is usually controlled by a database management system (DBMS)\n",
    "\n",
    "#### Difference between SQL & NoSQL\n",
    "#### SQL\t\n",
    "#### 1)RELATIONAL DATABASE MANAGEMENT SYSTEM (RDBMS)\n",
    "#### 2)These databases have fixed or static or predefined schema\t\n",
    "#### 3)These databases are not suited for hierarchical data storage.\t\n",
    "#### 4)These databases are best suited for complex queries\t\n",
    "\n",
    "#### NoSQL\n",
    "#### 1)Non-relational or distributed database system.\n",
    "#### 2)They have dynamic schema\n",
    "#### 3)These databases are best suited for hierarchical data storage.\n",
    "#### 4)These databases are not so good for complex queries"
   ]
  },
  {
   "cell_type": "markdown",
   "id": "f558d3a6-d066-4f50-8e9f-fd7779d288bd",
   "metadata": {},
   "source": [
    "#### Q2.What is DDL? Explain why CREATE, DROP, ALTER, and TRUNCATE are used with an example."
   ]
  },
  {
   "cell_type": "markdown",
   "id": "65a16ec7-6447-42f0-bb7d-9506f6a6c003",
   "metadata": {},
   "source": [
    "#### Answer: Data Definition Language (DDL) is a subset of SQL. It is a language for describing data and its relationships in a database. CREATE,DROP ,ALTER AND TRUNCATE are used to create table as well they used to manipulate table in database"
   ]
  },
  {
   "cell_type": "markdown",
   "id": "b0fb8853-b559-4f70-9660-d0e5e771b40b",
   "metadata": {},
   "source": [
    "#### 1) CREATE : the CREATE TABLE statement is used to create a new table in a database."
   ]
  },
  {
   "cell_type": "code",
   "execution_count": null,
   "id": "7d42b908-2193-4d75-85d7-ea9fe621cf32",
   "metadata": {},
   "outputs": [],
   "source": [
    "# example of create :\n",
    "CREATE TABLE Persons (PersonID int,LastName varchar(255),FirstName varchar(255),Address varchar(255),City varchar(255));"
   ]
  },
  {
   "cell_type": "markdown",
   "id": "178583a9-8c2e-4252-8e25-e9b3271d0ae1",
   "metadata": {},
   "source": [
    "#### 2) DROP : DROP is a DDL(Data Definition Language) command and is used to remove table definition and indexes, data, constraints, triggers etc for that table"
   ]
  },
  {
   "cell_type": "code",
   "execution_count": null,
   "id": "a7751371-9b46-40e7-b3fe-cd5b667b3bf0",
   "metadata": {},
   "outputs": [],
   "source": [
    "#example of drop: \n",
    "DROP TABLE gps_fkey;"
   ]
  },
  {
   "cell_type": "markdown",
   "id": "e0e91af8-653c-4e4f-aae4-73bb5d1b19bc",
   "metadata": {},
   "source": [
    "#### 3) ALTER: The ALTER TABLE statement is used to add, delete, or modify columns in an existing table.\n",
    "#### The ALTER TABLE statement is also used to add and drop various constraints on an existing table."
   ]
  },
  {
   "cell_type": "code",
   "execution_count": null,
   "id": "62f5ad95-49a0-414f-8064-1bb2f78d7899",
   "metadata": {},
   "outputs": [],
   "source": [
    "# example of alter:\n",
    "ALTER TABLE Customers ADD Email varchar(255);"
   ]
  },
  {
   "cell_type": "markdown",
   "id": "9e305382-9944-4949-aae3-03fe7a8e6287",
   "metadata": {},
   "source": [
    "#### 4) Truncate: TRUNCATE is a DDL(Data Definition Language) command. It is used to delete all the tuples from the table. Like the DROP command, the TRUNCATE command also does not contain a WHERE clause."
   ]
  },
  {
   "cell_type": "code",
   "execution_count": null,
   "id": "0a8b2fad-afbc-4ea3-93a6-02b654422d27",
   "metadata": {},
   "outputs": [],
   "source": [
    "# example of Truncate: \n",
    "TRUNCATE TABLE gps_fkey; "
   ]
  },
  {
   "cell_type": "markdown",
   "id": "f7ec90ed-3c83-47a5-b61c-ffcbc2ca355b",
   "metadata": {},
   "source": [
    "#### Q3.What is DML? Explain INSERT, UPDATE, and DELETE with an example. "
   ]
  },
  {
   "cell_type": "markdown",
   "id": "fbb01ccc-1d50-4315-8279-c7e8c8d4d3cd",
   "metadata": {},
   "source": [
    "#### Answer: A DML (data manipulation language) refers to a computer programming language that allows you to add (insert), delete (delete), and alter (update) data in a database."
   ]
  },
  {
   "cell_type": "markdown",
   "id": "c0d3e43c-83a6-42d0-9280-2190542ee55a",
   "metadata": {},
   "source": [
    "#### 1)INSERT: The INSERT INTO statement is used to insert new records in a table."
   ]
  },
  {
   "cell_type": "code",
   "execution_count": null,
   "id": "c793d984-53bf-48de-b818-bec16d78cf27",
   "metadata": {},
   "outputs": [],
   "source": [
    "# example of insert: \n",
    "INSERT INTO Customers (CustomerName, ContactName, Address, City, PostalCode, Country) \n",
    "VALUES ('Cardinal', 'Tom B. Erichsen', 'Skagen 21', 'Stavanger', '4006', 'Norway');"
   ]
  },
  {
   "cell_type": "markdown",
   "id": "7140b1d5-426c-45d3-93ed-638706bb76c7",
   "metadata": {},
   "source": [
    "#### 2)UPDATE: The UPDATE statement is used to modify the existing records in a table."
   ]
  },
  {
   "cell_type": "code",
   "execution_count": null,
   "id": "b7383475-020b-41fc-8f29-e6ec596ed2d8",
   "metadata": {},
   "outputs": [],
   "source": [
    "# example of update:\n",
    "UPDATE Customers\n",
    "SET ContactName = 'Alfred Schmidt', City= 'Frankfurt'\n",
    "WHERE CustomerID = 1;"
   ]
  },
  {
   "cell_type": "markdown",
   "id": "6d44cbf3-4227-4738-a284-58b179147243",
   "metadata": {},
   "source": [
    "#### 3)DELETE : The DELETE statement is used to delete existing records in a table."
   ]
  },
  {
   "cell_type": "code",
   "execution_count": null,
   "id": "98845353-681e-4811-8a4e-e86d94ff2184",
   "metadata": {},
   "outputs": [],
   "source": [
    "# example of delete:\n",
    "DELETE FROM gps_name WHERE CustomerID=3;"
   ]
  },
  {
   "cell_type": "markdown",
   "id": "dfd1798c-149c-49e4-8523-b5b6ac82814e",
   "metadata": {},
   "source": [
    "#### Q4.What is DQL? Explain SELECT with an example. "
   ]
  },
  {
   "cell_type": "markdown",
   "id": "fc0e06f7-7c14-4848-a0a1-1c571564a605",
   "metadata": {},
   "source": [
    "#### Answer: The full form of DQL is Data Query Language. DQL is a part of the grouping involved in SQL (Structures Query Language) sub-languages."
   ]
  },
  {
   "cell_type": "markdown",
   "id": "0fcbf59a-3b67-4986-96be-e19199470b69",
   "metadata": {},
   "source": [
    "#### The SELECT command is used to select data from a database. The data returned is stored in a result table, called the result set."
   ]
  },
  {
   "cell_type": "code",
   "execution_count": null,
   "id": "14b39b7c-1a14-47b9-9fa4-1008f977bba3",
   "metadata": {},
   "outputs": [],
   "source": [
    "# example of SELECT with example\n",
    "SELELCT * FROM GPS_NAME;"
   ]
  },
  {
   "cell_type": "markdown",
   "id": "a3a5d8f0-7c0d-47ec-98a1-da0362592ece",
   "metadata": {},
   "source": [
    "#### Q5.Explain Primary Key and Foreign Key. "
   ]
  },
  {
   "cell_type": "markdown",
   "id": "7c6e570c-cf6e-4b54-8a0f-58b8ccd1f3c4",
   "metadata": {},
   "source": [
    "#### PRIMARY KEY: The PRIMARY KEY constraint uniquely identifies each record in a table.A table can have only one primary key, which may consist of one single or of multiple fields.\n",
    "\n",
    "#### FOREIGN KEY: The FOREIGN KEY constraint is a key used to link two tables together.A FOREIGN KEY is a field (or collection of fields) in one table that refers to the PRIMARY KEY in another table."
   ]
  },
  {
   "cell_type": "markdown",
   "id": "33ee46a7-9126-483b-8c3c-7e9afe293fc8",
   "metadata": {},
   "source": [
    "#### Q6.Write a python code to connect MySQL to python. Explain the cursor() and execute() method."
   ]
  },
  {
   "cell_type": "code",
   "execution_count": null,
   "id": "9d99f3c0-1eb6-4da9-8919-4d2423786df1",
   "metadata": {},
   "outputs": [],
   "source": [
    "# python code to connect to MySql \n",
    "import mysql.connector\n",
    "# import mysql.connector\n",
    "mydb = mysql.connector.connect(\n",
    "  host=\"localhost\",\n",
    "  user=\"abc\",\n",
    "  password=\"password\"\n",
    ")\n",
    "print(mydb)\n",
    "mycursor = mydb.cursor()\n",
    "mycursor.execute(\"SHOW DATABASES\")\n",
    "for x in mycursor:\n",
    "  print(x)"
   ]
  },
  {
   "cell_type": "markdown",
   "id": "75759947-40ab-4e7a-991f-8764d0b79a35",
   "metadata": {},
   "source": [
    "#### Cursor() : A cursor keeps track of the position in the result set, and allows you to perform multiple operations row by row against a result set, with or without returning to the original table. In other words, cursors conceptually return a result set based on tables within the databases\n",
    "\n",
    "#### execute() : The Execute method executes a specified query, SQL statement, stored procedure, or provider-specific text. The results are stored in a new Recordset object if it is a row-returning query. A closed Recordset object will be returned if it is not a row-returning query."
   ]
  },
  {
   "cell_type": "markdown",
   "id": "506f5d8d-acce-4fcb-9560-7a1a9b9fe41f",
   "metadata": {},
   "source": [
    "####  Q7. Give the order of execution of SQL clauses in an SQL query. "
   ]
  },
  {
   "cell_type": "markdown",
   "id": "9db6babe-4a6c-4ed9-98c0-caf092ac338a",
   "metadata": {},
   "source": [
    "#### Answer: The order in which the clauses in queries are executed is as follows:\n",
    "#### 1. FROM/JOIN: The FROM and/or JOIN clauses are executed first to determine the data of interest.\n",
    "#### 2. WHERE: The WHERE clause is executed to filter out records that do not meet the constraints.\n",
    "#### 3. GROUP BY: The GROUP BY clause is executed to group the data based on the values in one or more columns.\n",
    "#### 4. HAVING: The HAVING clause is executed to remove the created grouped records that don’t meet the constraints.\n",
    "#### 5. SELECT: The SELECT clause is executed to derive all desired columns and expressions.\n",
    "#### 6. ORDER BY: The ORDER BY clause is executed to sort the derived values in ascending or descending order.\n",
    "#### 7. LIMIT/OFFSET: Finally, the LIMIT and/or OFFSET clauses are executed to keep or skip a specified number of rows."
   ]
  },
  {
   "cell_type": "code",
   "execution_count": null,
   "id": "1e82575d-f515-43d2-9b65-c3ee700e07f4",
   "metadata": {},
   "outputs": [],
   "source": []
  }
 ],
 "metadata": {
  "kernelspec": {
   "display_name": "Python 3 (ipykernel)",
   "language": "python",
   "name": "python3"
  },
  "language_info": {
   "codemirror_mode": {
    "name": "ipython",
    "version": 3
   },
   "file_extension": ".py",
   "mimetype": "text/x-python",
   "name": "python",
   "nbconvert_exporter": "python",
   "pygments_lexer": "ipython3",
   "version": "3.10.8"
  }
 },
 "nbformat": 4,
 "nbformat_minor": 5
}

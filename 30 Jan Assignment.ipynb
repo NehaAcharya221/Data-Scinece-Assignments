{
 "cells": [
  {
   "cell_type": "markdown",
   "id": "346b872a-7284-47cd-98c2-c1ab444bcef1",
   "metadata": {},
   "source": [
    "### Q1. Write a program to accept percentage from the user and display the grade according to the following .\n",
    "### Answer:"
   ]
  },
  {
   "cell_type": "code",
   "execution_count": 8,
   "id": "5e7dc1ff-d148-4f41-9f92-a55cc9e14592",
   "metadata": {},
   "outputs": [
    {
     "name": "stdin",
     "output_type": "stream",
     "text": [
      "Enter your marks:  80\n"
     ]
    },
    {
     "name": "stdout",
     "output_type": "stream",
     "text": [
      "Grade = C\n"
     ]
    }
   ],
   "source": [
    "Marks=int(input(\"Enter your marks: \"))\n",
    "\n",
    "if Marks>90:\n",
    "    print(\"Grade = A\")\n",
    "elif Marks>80 and Marks<=90:\n",
    "    print(\"Grade = B\")\n",
    "elif Marks>=60 and Marks<=80:\n",
    "    print(\"Grade = C\")\n",
    "elif Marks<60:\n",
    "    print(\"Grade = D\")"
   ]
  },
  {
   "cell_type": "markdown",
   "id": "aa11e521-0885-4549-9dfd-92bf44e2c0c7",
   "metadata": {},
   "source": [
    "### Q2. Write a program to accept the cost price of a bike and display the road tax to be paid according to the following criteria: \n",
    "### Answer"
   ]
  },
  {
   "cell_type": "code",
   "execution_count": 12,
   "id": "55a2cf1a-1611-4939-accd-bc86e289fe9d",
   "metadata": {},
   "outputs": [
    {
     "name": "stdin",
     "output_type": "stream",
     "text": [
      "Enter the cost price:  70000\n"
     ]
    },
    {
     "name": "stdout",
     "output_type": "stream",
     "text": [
      "Tax is 10% and the road tax to be paid is 7000.0.\n"
     ]
    }
   ],
   "source": [
    "Cost_price=int(input(\"Enter the cost price: \"))\n",
    "\n",
    "if Cost_price>100000:\n",
    "    x=15/100*Cost_price\n",
    "    print(\"Tax is 15% and the road tax to be paid is \"+str(x)+\".\")\n",
    "elif Cost_price>50000 and Cost_price<=100000:\n",
    "    x=10/100*Cost_price\n",
    "    print(\"Tax is 10% and the road tax to be paid is \"+str(x)+\".\")\n",
    "elif Cost_price<=50000:\n",
    "    x=5/100*Cost_price\n",
    "    print(\"Tax is 5% and the road tax to be paid is \"+str(x)+\".\")"
   ]
  },
  {
   "cell_type": "markdown",
   "id": "0c7eacca-26da-4eef-a89f-11e3d829e474",
   "metadata": {},
   "source": [
    "### Q3. Accept any city from the user and display monuments of that city. \n",
    "### Answer"
   ]
  },
  {
   "cell_type": "code",
   "execution_count": 11,
   "id": "0c02bf52-fc37-4462-b664-3fda2e01c5da",
   "metadata": {},
   "outputs": [
    {
     "name": "stdin",
     "output_type": "stream",
     "text": [
      "Enter a city:  Jaipur\n"
     ]
    },
    {
     "name": "stdout",
     "output_type": "stream",
     "text": [
      "Monument=Jai Mahal\n"
     ]
    }
   ],
   "source": [
    "city = input(\"Enter a city: \")\n",
    "\n",
    "if city == \"Delhi\":\n",
    "    print(\"Monument=Red Fort\")\n",
    "elif city == \"Agra\":\n",
    "    print(\"Monument=Taj Mahal\")\n",
    "elif city == \"Jaipur\":\n",
    "    print(\"Monument=Jai Mahal\")\n",
    "else:\n",
    "    print(\"Please enter a valid city!\")"
   ]
  },
  {
   "cell_type": "markdown",
   "id": "9d3590d8-a9aa-42cf-b80d-c7f09b501151",
   "metadata": {},
   "source": [
    "### Q4. Check how many times a given number can be divided by 3 before it is less than or equal to 10. \n",
    "### Answer"
   ]
  },
  {
   "cell_type": "code",
   "execution_count": 13,
   "id": "8ad0d619-0486-435c-a00b-b2e64a55354b",
   "metadata": {},
   "outputs": [
    {
     "name": "stdin",
     "output_type": "stream",
     "text": [
      "Enter the number: 90\n"
     ]
    },
    {
     "name": "stdout",
     "output_type": "stream",
     "text": [
      "2 times given can be divisible by 3 before it is less than or equal to 10\n"
     ]
    }
   ],
   "source": [
    "n = int(input(\"Enter the number:\"))\n",
    "c=0\n",
    "while n>10:\n",
    "    if (n%3==0):\n",
    "        c+=1\n",
    "        n/=3\n",
    "    else:\n",
    "        break\n",
    "\n",
    "print(f\"{c} times given can be divisible by 3 before it is less than or equal to 10\")"
   ]
  },
  {
   "cell_type": "markdown",
   "id": "954819c9-7ad0-4124-bced-5e3a764b069e",
   "metadata": {},
   "source": [
    "### Q5. Why and When to Use while Loop in Python give a detailed description with example "
   ]
  },
  {
   "cell_type": "raw",
   "id": "42482841-89ad-4119-9664-b95077c07e1a",
   "metadata": {},
   "source": [
    "Answer: while loop is used to repeat a specific block of code until a condition is satisfied.\n",
    "example: In below example 10-1 numbers are printed in reverse order from 10 until 1 is encountered when 1 is found then the control exits the loop.\n",
    "\n",
    "i=10\n",
    "\n",
    "while i>0:\n",
    "    print(i)\n",
    "    i=i-1\n",
    "    \n",
    "Output:\n",
    "10\n",
    "9\n",
    "8\n",
    "7\n",
    "6\n",
    "5\n",
    "4\n",
    "3\n",
    "2\n",
    "1"
   ]
  },
  {
   "cell_type": "markdown",
   "id": "07e17552-e51c-4c21-bac3-242b1979937d",
   "metadata": {},
   "source": [
    "### Q6. Use nested while loop to print 3 different pattern. \n",
    "### Answer"
   ]
  },
  {
   "cell_type": "code",
   "execution_count": 27,
   "id": "2657e3f9-a164-4c32-aca6-21788e169989",
   "metadata": {},
   "outputs": [
    {
     "name": "stdout",
     "output_type": "stream",
     "text": [
      "pattern1\n",
      "* \n",
      "* * \n",
      "* * * \n",
      "* * * * \n",
      "* * * * * \n",
      "* * * * * * \n",
      "pattern2\n",
      "* * * * * * \n",
      "* * * * * \n",
      "* * * * \n",
      "* * * \n",
      "* * \n",
      "* \n",
      "\n",
      "pattern3\n",
      "j \n",
      "j j \n",
      "j j j \n",
      "j j j j \n",
      "j j j j j \n",
      "j j j j j j \n"
     ]
    }
   ],
   "source": [
    "#pattern1\n",
    "print(\"pattern1\")\n",
    "i=1\n",
    "while i<=6:\n",
    "    j=1\n",
    "    while j<=i:\n",
    "        print(\"*\",end=\" \")\n",
    "        j+=1\n",
    "    print()\n",
    "    i+=1\n",
    "    \n",
    "#pattern2\n",
    "print(\"pattern2\")\n",
    "i=6\n",
    "while i>=0:\n",
    "    j=1\n",
    "    while j<=i:\n",
    "        print(\"*\",end=\" \")\n",
    "        j+=1\n",
    "    print()\n",
    "    i-=1\n",
    "    \n",
    "#pattern3\n",
    "print(\"pattern3\")\n",
    "i=1\n",
    "while i<=6:\n",
    "    j=1\n",
    "    while j<=i:\n",
    "        print(\"j\",end=\" \")\n",
    "        j+=1\n",
    "    print()\n",
    "    i+=1"
   ]
  },
  {
   "cell_type": "markdown",
   "id": "e21364f0-53b0-4dab-8e80-892f45f0d649",
   "metadata": {},
   "source": [
    "### Q7. Reverse a while loop to display numbers from 10 to 1. \n",
    "### Answer "
   ]
  },
  {
   "cell_type": "code",
   "execution_count": 14,
   "id": "ca653c5a-d6ec-4664-8dec-48a19992459c",
   "metadata": {},
   "outputs": [
    {
     "name": "stdout",
     "output_type": "stream",
     "text": [
      "10\n",
      "9\n",
      "8\n",
      "7\n",
      "6\n",
      "5\n",
      "4\n",
      "3\n",
      "2\n",
      "1\n"
     ]
    }
   ],
   "source": [
    "i=10\n",
    "\n",
    "while i>0:\n",
    "    print(i)\n",
    "    i=i-1"
   ]
  },
  {
   "cell_type": "markdown",
   "id": "9806c422-366b-4cce-8aef-2fdb48a3145b",
   "metadata": {},
   "source": [
    "### Q8. Reverse a while loop to display numbers from 10 to 1. \n",
    "### Answer"
   ]
  },
  {
   "cell_type": "code",
   "execution_count": 29,
   "id": "e13f5431-3817-46bd-a0a3-049feb2e814e",
   "metadata": {},
   "outputs": [
    {
     "name": "stdout",
     "output_type": "stream",
     "text": [
      "10\n",
      "9\n",
      "8\n",
      "7\n",
      "6\n",
      "5\n",
      "4\n",
      "3\n",
      "2\n",
      "1\n"
     ]
    }
   ],
   "source": [
    "i=10\n",
    "\n",
    "while i>0:\n",
    "    print(i)\n",
    "    i=i-1"
   ]
  },
  {
   "cell_type": "code",
   "execution_count": null,
   "id": "162ee8dd-580c-4ead-a086-d9271cb3603d",
   "metadata": {},
   "outputs": [],
   "source": []
  }
 ],
 "metadata": {
  "kernelspec": {
   "display_name": "Python 3 (ipykernel)",
   "language": "python",
   "name": "python3"
  },
  "language_info": {
   "codemirror_mode": {
    "name": "ipython",
    "version": 3
   },
   "file_extension": ".py",
   "mimetype": "text/x-python",
   "name": "python",
   "nbconvert_exporter": "python",
   "pygments_lexer": "ipython3",
   "version": "3.10.8"
  }
 },
 "nbformat": 4,
 "nbformat_minor": 5
}

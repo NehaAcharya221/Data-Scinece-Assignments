{
 "cells": [
  {
   "cell_type": "markdown",
   "id": "6a5546a7-8863-48a1-b398-502e934d3e16",
   "metadata": {},
   "source": [
    "#### Q1.What is an API? Give an example, where an API is used in real life"
   ]
  },
  {
   "cell_type": "markdown",
   "id": "baf2d4e1-956f-4de3-b61c-2157716568d9",
   "metadata": {},
   "source": [
    "#### Answer: API is the acronym for application programming interface — a software intermediary that allows two applications to talk to each other. APIs are an accessible way to extract and share data within and across organizations.APIs are all around us. Every time you use a rideshare app, send a mobile payment, or change the thermostat temperature from your phone, you’re using an API.\n",
    "\n",
    "#### Real life example of API\n",
    "#### Twitter Bots\n",
    "#### If you spend a significant amount of time on Twitter, then you've probably come across a bot at one point or another. Twitter has numerous bots that utilize the Twitter API to perform automated tasks."
   ]
  },
  {
   "cell_type": "markdown",
   "id": "18f04f11-ba36-4809-8964-58100aaa44eb",
   "metadata": {},
   "source": [
    "#### Q2.Give advantages and disadvantages of using API. "
   ]
  },
  {
   "cell_type": "markdown",
   "id": "293a6db2-8a4b-45a0-95a6-959b64910d1a",
   "metadata": {},
   "source": [
    "#### API Advantages\n",
    "#### 1)Efficiency: When you have content that is automatically published and made available on different channels simultaneously, APIs allow for more efficient data distribution.One of the greatest benefits of APIs is the ability it has to adapt to changes through data migration and flexibility of services.\n",
    "\n",
    "#### API Disadvantages\n",
    "#### 1)API Security: As a single point of entry, an API is a gateway and can become a hacker's primary target. Once the API is compromised, all other applications and systems become vulnerable."
   ]
  },
  {
   "cell_type": "markdown",
   "id": "8fbf9ca3-540d-45db-b1db-ec4078988dc5",
   "metadata": {},
   "source": [
    "#### Q3.What is a Web API? Differentiate between API and Web API. "
   ]
  },
  {
   "cell_type": "markdown",
   "id": "b27779c6-8b6d-45a0-82c8-066971123f2d",
   "metadata": {},
   "source": [
    "#### Answer: A web API is an application programming interface for either a web server or a web browser. It is a web development concept, usually limited to a web application's client-side (including any web frameworks being used), and thus usually does not include web server or browser implementation details such as SAPIs or APIs unless publicly accessible by a remote web application.\n",
    "#### Difference between API & Web API- \n",
    "#### Web API-\n",
    "#### 1) All web services are APIs. It supports XML.\n",
    "#### 2) You need a SOAP protocol to send or receive and data over the network. \n",
    "#### 3) Therefore it does not have light-weight architecture. \n",
    "#### 4) It can be used by any client who understands XML.\n",
    "#### API-\n",
    "#### 1) All APIs are not web services. \n",
    "#### 2) Responses are formatted using Web API’s MediaTypeFormatter into XML, JSON, or any other given format.\n",
    "#### 3) API has a light-weight architecture. \n",
    "#### 4) It can be used by a client who understands JSON or XML."
   ]
  },
  {
   "cell_type": "markdown",
   "id": "d55c5628-70ef-4913-a4a3-b112337891a5",
   "metadata": {},
   "source": [
    "#### Q4.Explain REST and SOAP Architecture. Mention shortcomings of SOAP. "
   ]
  },
  {
   "cell_type": "markdown",
   "id": "945baa4a-a1e2-4fc3-936b-d1f68075e370",
   "metadata": {},
   "source": [
    "#### Answer: \n",
    "#### REST:- REST is a set of guidelines that offers flexible implementation, whereas SOAP is a protocol with specific requirements like XML messaging. REST APIs are lightweight, making them ideal for newer contexts like the Internet of Things (IoT), mobile application development, and serverless computing.Web services which follow the REST architectural style are known as RESTful web services. It allows requesting systems to access and manipulate web resources by using a uniform and predefined set of rules\n",
    "#### Soap Architecture:- SOAP is the Simple Object Access Protocol, a messaging standard defined by the World Wide Web Consortium and its member editors. SOAP uses an XML data format to declare its request and response messages, relying on XML Schema and other technologies to enforce the structure of its payloads.\n",
    "#### shortcomings of SOAP:\n",
    "#### 1)Highly complex :-In comparison to Rest, SOAP is significantly more complex. It's also less flexible. This might present a challenge for developers that are not highly skilled. The extensive processing required may also slow down performance.\n",
    "\n",
    "#### 2)No variety of data formats :- SOAP is also extremely limited in its support of data formats. The formats supported by Rest include HTML, JSON, YAML, XML and others. Meanwhile, SOAP only supports XML.\n",
    "\n",
    "#### 3)API calls are not cached :-The process where a request is sent after an API is set up with the correct endpoints is referred to as an API call. The process results in the information being transferred, processed and feedback being provided. It's not possible for SOAP API calls to be cached.\n",
    "\n",
    "#### 3)Uses more bandwidth :-SOAP is generally slower in comparison to Rest and it also uses more bandwidth given its very complex nature. It’s another limiting factor in the efficacy of this technology for certain projects."
   ]
  },
  {
   "cell_type": "markdown",
   "id": "91e372a5-cdbc-4bfc-b35b-cb1f4c58db75",
   "metadata": {},
   "source": [
    "#### Q5.Differentiate between REST and SOAP. "
   ]
  },
  {
   "cell_type": "markdown",
   "id": "13bc5a4e-440f-43b3-8bc0-ec1e9fb98fde",
   "metadata": {},
   "source": [
    "#### Answer: difference between soap & rest:\n",
    "#### SOAP:\n",
    "#### 1) SOAP stands for Simple Object Access Protocol. \n",
    "#### 2) Since SOAP is a protocol, it follows a strict standard to allow communication between the client and the server.\n",
    "#### 3) SOAP uses only XML for exchanging information in its message format.\n",
    "#### REST: \n",
    "#### 1) REST stands for Representational State Transfer.\n",
    "#### 2) REST is an architectural style that doesn’t follow any strict standard but follows six constraints defined by Roy Fielding in 2000. \n",
    "#### 3) REST is not restricted to XML and its the choice of implementer which Media-Type to use like XML, JSON, Plain-text"
   ]
  },
  {
   "cell_type": "code",
   "execution_count": null,
   "id": "a4c2ab98-abb0-4f37-b1f8-18aa70e0d2de",
   "metadata": {},
   "outputs": [],
   "source": []
  }
 ],
 "metadata": {
  "kernelspec": {
   "display_name": "Python 3 (ipykernel)",
   "language": "python",
   "name": "python3"
  },
  "language_info": {
   "codemirror_mode": {
    "name": "ipython",
    "version": 3
   },
   "file_extension": ".py",
   "mimetype": "text/x-python",
   "name": "python",
   "nbconvert_exporter": "python",
   "pygments_lexer": "ipython3",
   "version": "3.10.8"
  }
 },
 "nbformat": 4,
 "nbformat_minor": 5
}

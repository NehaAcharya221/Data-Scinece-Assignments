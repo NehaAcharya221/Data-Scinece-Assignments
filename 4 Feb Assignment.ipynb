{
 "cells": [
  {
   "cell_type": "markdown",
   "id": "c6711f3e-5896-4c04-9a0d-83e05866ff4c",
   "metadata": {},
   "source": [
    "#### Q1.Create a python program to sort the given list of tuples based on integer value using a  lambda function.  \n",
    "[('Sachin Tendulkar', 34357), ('Ricky Ponting', 27483), ('Jack Kallis', 25534), ('Virat Kohli', 24936)] "
   ]
  },
  {
   "cell_type": "code",
   "execution_count": 11,
   "id": "8d0044c6-6985-4a4c-a4d2-10e9f471c55b",
   "metadata": {},
   "outputs": [
    {
     "name": "stdout",
     "output_type": "stream",
     "text": [
      "[('Virat Kohli', 24936), ('Jack Kallis', 25534), ('Ricky Ponting', 27483), ('Sachin Tendulkar', 34357)]\n"
     ]
    }
   ],
   "source": [
    "#program to sort given list of tuples based on integer value\n",
    "l5=[('Sachin Tendulkar', 34357), ('Ricky Ponting', 27483), ('Jack Kallis', 25534), ('Virat Kohli', 24936)]\n",
    "l5.sort(key=lambda l5:l5[1])\n",
    "print(l5)"
   ]
  },
  {
   "cell_type": "markdown",
   "id": "cae9c336-0696-47d7-b00b-7f0a249b6cd8",
   "metadata": {},
   "source": [
    "#### Q2.Write a Python Program to find the squares of all the numbers in the given list of integers using  lambda and map functions. [1, 2, 3, 4, 5, 6, 7, 8, 9, 10] "
   ]
  },
  {
   "cell_type": "code",
   "execution_count": 12,
   "id": "9023c3cc-8bee-4293-afad-6fb0b88001fa",
   "metadata": {},
   "outputs": [
    {
     "name": "stdout",
     "output_type": "stream",
     "text": [
      "[1, 4, 9, 16, 25, 36, 49, 64, 81, 100]\n"
     ]
    }
   ],
   "source": [
    "#printing squares of numbers given in the list\n",
    "l3=[1, 2, 3, 4, 5, 6, 7, 8, 9, 10] \n",
    "print(list(map(lambda x:x*x,l3)))"
   ]
  },
  {
   "cell_type": "markdown",
   "id": "6e92f6f8-0c1e-4f6a-8df0-22761d6da337",
   "metadata": {},
   "source": [
    "#### Q3.Write a python program to convert the given list of integers into a tuple of strings. Use map and  lambda functions Given String: [1, 2, 3, 4, 5, 6, 7, 8, 9, 10] Expected output: ('1', '2', '3', '4', '5', '6', '7', '8', '9', '10') "
   ]
  },
  {
   "cell_type": "code",
   "execution_count": 17,
   "id": "4ba64f80-94a8-4a5b-9e85-08cd64af5c1a",
   "metadata": {},
   "outputs": [
    {
     "name": "stdout",
     "output_type": "stream",
     "text": [
      "('1', '2', '3', '4', '5', '6', '7', '8', '9', '10')\n"
     ]
    }
   ],
   "source": [
    "#program to convert given list integers into tuples of strings\n",
    "l2=[1, 2, 3, 4, 5, 6, 7, 8, 9, 10]\n",
    "print(tuple(map(lambda x:str(x),l2)))"
   ]
  },
  {
   "cell_type": "markdown",
   "id": "6c267464-08ca-49d5-aa66-77d12abcbe93",
   "metadata": {},
   "source": [
    "#### Q4.Write a python program using reduce function to compute the product of a list containing numbers  from 1 to 25. "
   ]
  },
  {
   "cell_type": "code",
   "execution_count": 25,
   "id": "05913339-0589-4c16-855c-df5c368ff355",
   "metadata": {},
   "outputs": [
    {
     "name": "stdout",
     "output_type": "stream",
     "text": [
      "620448401733239439360000\n"
     ]
    }
   ],
   "source": [
    "from functools import reduce\n",
    "numbers = list(range(1,25))\n",
    "def prod(a_list):\n",
    "    return functools.reduce(lambda x,y : x*y ,a_list)\n",
    "print(prod(numbers))"
   ]
  },
  {
   "cell_type": "markdown",
   "id": "b4fd5cb2-2d70-4ccb-ab09-dc8a7e7d9175",
   "metadata": {},
   "source": [
    "#### Q5.Write a python program to filter the numbers in a given list that are divisible by 2 and 3 using the  filter function. [2, 3, 6, 9, 27, 60, 90, 120, 55, 46] "
   ]
  },
  {
   "cell_type": "code",
   "execution_count": 14,
   "id": "1b2a4c26-87b1-47b5-8b54-dee69c0162ca",
   "metadata": {},
   "outputs": [
    {
     "name": "stdout",
     "output_type": "stream",
     "text": [
      "[2, 3, 6, 9, 27, 60, 90, 120, 46]\n"
     ]
    }
   ],
   "source": [
    "#program to filter the numbers in given list which are divisible by 2 & 3  \n",
    "l1= [2,3,6,9,27,60,90,120,55,46]\n",
    "print(list(filter(lambda x : x%2==0 or x%3==0 ,l1)))"
   ]
  },
  {
   "cell_type": "markdown",
   "id": "ab25bad0-3a13-4e28-a3ce-d915988e2ea8",
   "metadata": {},
   "source": [
    "#### Q6.Write a python program to find palindromes in the given list of strings using lambda and filter  function.['python', 'php', 'aba', 'radar', 'level'] \n"
   ]
  },
  {
   "cell_type": "code",
   "execution_count": 15,
   "id": "f74457a4-0fea-44b5-823b-139dbd49438b",
   "metadata": {},
   "outputs": [
    {
     "name": "stdout",
     "output_type": "stream",
     "text": [
      "['php', 'aba', 'radar', 'level']\n"
     ]
    }
   ],
   "source": [
    "l6=['python', 'php', 'aba', 'radar', 'level'] \n",
    "print(list(filter(lambda x : x==x[::-1] ,l6)))"
   ]
  },
  {
   "cell_type": "code",
   "execution_count": null,
   "id": "98a474a3-971c-4b52-9c14-a3da91680b2f",
   "metadata": {},
   "outputs": [],
   "source": []
  }
 ],
 "metadata": {
  "kernelspec": {
   "display_name": "Python 3 (ipykernel)",
   "language": "python",
   "name": "python3"
  },
  "language_info": {
   "codemirror_mode": {
    "name": "ipython",
    "version": 3
   },
   "file_extension": ".py",
   "mimetype": "text/x-python",
   "name": "python",
   "nbconvert_exporter": "python",
   "pygments_lexer": "ipython3",
   "version": "3.10.8"
  }
 },
 "nbformat": 4,
 "nbformat_minor": 5
}

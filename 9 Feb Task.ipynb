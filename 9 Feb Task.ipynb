{
 "cells": [
  {
   "cell_type": "markdown",
   "id": "8c8eba5a-06c1-4f51-9ecf-06055b462798",
   "metadata": {},
   "source": [
    "#### Q1.Create a vehicle class with an init method having instance variables as name_of_vehicle, max_speed  and average_of_vehicle. "
   ]
  },
  {
   "cell_type": "code",
   "execution_count": 9,
   "id": "9c9f7a54-6f31-460f-9ae8-f0cab19ab0b1",
   "metadata": {},
   "outputs": [
    {
     "name": "stdout",
     "output_type": "stream",
     "text": [
      "honda\n",
      "100\n",
      "121\n"
     ]
    }
   ],
   "source": [
    "# class with init method\n",
    "class vehicle:\n",
    "    def __init__(self,name_of_vehicle,max_speed,average_of_vehicle):\n",
    "\n",
    "        self.name_of_vehicle = name_of_vehicle\n",
    "        self.max_speed = max_speed\n",
    "        self.average_of_vehicle = average_of_vehicle\n",
    "\n",
    "    def return_vehicle_details(self):\n",
    "        return self.name_of_vehicle,self.max_speed,self.average_of_vehicle\n",
    "\n",
    "toyota = vehicle('honda',100,121)\n",
    "print(toyota.name_of_vehicle)\n",
    "print(toyota.max_speed)\n",
    "print(toyota.average_of_vehicle)"
   ]
  },
  {
   "cell_type": "markdown",
   "id": "93d00672-be01-4de4-9b3b-d198be2f2681",
   "metadata": {},
   "source": [
    "#### Q2.Create a child class car from the vehicle class created in Que 1, which will inherit the vehicle class.  Create a method named seating_capacity which takes capacity as an argument and returns the name of the vehicle and its seating capacity. "
   ]
  },
  {
   "cell_type": "code",
   "execution_count": 10,
   "id": "5a419fef-1cff-427e-95d4-b242cd0578bc",
   "metadata": {},
   "outputs": [
    {
     "name": "stdout",
     "output_type": "stream",
     "text": [
      "('honda', 4)\n"
     ]
    }
   ],
   "source": [
    "# inerit vehicle class\n",
    "class capacity_vehicle(vehicle):\n",
    "    def seating_capacity(self,capacity):\n",
    "        return self.name_of_vehicle ,capacity\n",
    "\n",
    "#will display the seating the capacity and name of vehicle\n",
    "obj_capacity_vehicle=capacity_vehicle('honda',100,121)\n",
    "print(obj_capacity_vehicle.seating_capacity(4))"
   ]
  },
  {
   "cell_type": "markdown",
   "id": "1617071c-fd79-44b2-95e9-2a83ee9d5cb8",
   "metadata": {},
   "source": [
    "#### Q3.What is multiple inheritance? Write a python code to demonstrate multiple inheritance. "
   ]
  },
  {
   "cell_type": "markdown",
   "id": "7d73d34d-2470-4f59-ad2f-c08ca9c8aa66",
   "metadata": {},
   "source": [
    "#### Answer:  Multiple Inheritance - When a class is derived from more than one base class it is called multiple Inheritance. The derived class inherits all the features of the base case."
   ]
  },
  {
   "cell_type": "code",
   "execution_count": 11,
   "id": "342370f6-55bd-4b58-bd29-49907255b060",
   "metadata": {},
   "outputs": [
    {
     "name": "stdout",
     "output_type": "stream",
     "text": [
      "In Class4\n",
      "In Class2\n",
      "In Class3\n",
      "In Class1\n"
     ]
    }
   ],
   "source": [
    "#example of multiple inheritanceclass Class1:\n",
    "class Class1:\n",
    "    def m(self):\n",
    "        print(\"In Class1\")\n",
    "       \n",
    "class Class2(Class1):\n",
    "    def m(self):\n",
    "        print(\"In Class2\")\n",
    " \n",
    "class Class3(Class1):\n",
    "    def m(self):\n",
    "         print(\"In Class3\")    \n",
    "     \n",
    "class Class4(Class2, Class3):\n",
    "    def m(self):\n",
    "        print(\"In Class4\")  \n",
    " \n",
    "obj = Class4()\n",
    "obj.m()\n",
    " \n",
    "Class2.m(obj)\n",
    "Class3.m(obj)\n",
    "Class1.m(obj)"
   ]
  },
  {
   "cell_type": "markdown",
   "id": "d86b8d94-ef29-4fe9-b06a-fed0f5c34d0e",
   "metadata": {},
   "source": [
    "#### Q4.What are getter and setter in python? Create a class and create a getter and a setter method in this  class. "
   ]
  },
  {
   "cell_type": "markdown",
   "id": "af2f3007-aa45-4be4-8b13-2e0a4bae9186",
   "metadata": {},
   "source": [
    "#### Answer:  Getter & setters to add validation logic around getting and setting a value.To avoid direct access of a class field i.e. private variables cannot be accessed directly or modified by external user."
   ]
  },
  {
   "cell_type": "code",
   "execution_count": 12,
   "id": "e325f830-c801-467e-b747-2e6d41dc1a43",
   "metadata": {},
   "outputs": [
    {
     "name": "stdout",
     "output_type": "stream",
     "text": [
      "23\n",
      "23\n"
     ]
    }
   ],
   "source": [
    "# Example of getter and setter\n",
    "class pwskills:\n",
    "    def __init__(self, age = 0):\n",
    "         self._age = age\n",
    "      \n",
    "    # getter method\n",
    "    def get_age(self):\n",
    "        return self._age\n",
    "      \n",
    "    # setter method\n",
    "    def set_age(self, x):\n",
    "        self._age = x\n",
    "  \n",
    "sohan = pwskills()\n",
    "  \n",
    "# setting the age using setter\n",
    "sohan.set_age(23)\n",
    "  \n",
    "# retrieving age using getter\n",
    "print(sohan.get_age())\n",
    "  \n",
    "print(sohan._age)"
   ]
  },
  {
   "cell_type": "markdown",
   "id": "f9a1cfc9-c245-47dc-a929-83f8868d4c56",
   "metadata": {},
   "source": [
    "#### Q5.What is method overriding in python? Write a python code to demonstrate method overriding."
   ]
  },
  {
   "cell_type": "markdown",
   "id": "67767c1d-fc27-4ef4-9b40-b966e1c7b747",
   "metadata": {},
   "source": [
    "#### Answer:  Method overriding is an ability of any object-oriented programming language that allows a subclass or child class to provide a specific implementation of a method that is already provided by one of its super-classes or parent classes. "
   ]
  },
  {
   "cell_type": "code",
   "execution_count": 13,
   "id": "3ed2ae68-a8be-4a85-bbe8-f31d6be7743a",
   "metadata": {},
   "outputs": [
    {
     "name": "stdout",
     "output_type": "stream",
     "text": [
      "Parent class\n",
      "Child class\n"
     ]
    }
   ],
   "source": [
    "# Example of overriding \n",
    "class Parent():\n",
    "   \n",
    "    def __init__(self):\n",
    "        self.value = \"Parent class\"\n",
    "    \n",
    "    def show(self):\n",
    "        print(self.value)\n",
    " \n",
    "class Child(Parent):\n",
    "    \n",
    "    def __init__(self):\n",
    "        self.value = \"Child class\"\n",
    "   \n",
    "    def show(self):\n",
    "        print(self.value)\n",
    " \n",
    "obj1 = Parent()\n",
    "obj2 = Child()\n",
    "  \n",
    "obj1.show()\n",
    "obj2.show()"
   ]
  },
  {
   "cell_type": "code",
   "execution_count": null,
   "id": "0e767c30-dad1-49b8-a093-b4df867d8dc7",
   "metadata": {},
   "outputs": [],
   "source": []
  }
 ],
 "metadata": {
  "kernelspec": {
   "display_name": "Python 3 (ipykernel)",
   "language": "python",
   "name": "python3"
  },
  "language_info": {
   "codemirror_mode": {
    "name": "ipython",
    "version": 3
   },
   "file_extension": ".py",
   "mimetype": "text/x-python",
   "name": "python",
   "nbconvert_exporter": "python",
   "pygments_lexer": "ipython3",
   "version": "3.10.8"
  }
 },
 "nbformat": 4,
 "nbformat_minor": 5
}

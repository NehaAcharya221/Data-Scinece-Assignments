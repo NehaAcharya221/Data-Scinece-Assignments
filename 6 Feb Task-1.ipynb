{
 "cells": [
  {
   "cell_type": "markdown",
   "id": "dc12b31b-541b-4b95-ab5d-708b2a570bd6",
   "metadata": {},
   "source": [
    "#### Q1. Create a function which will take a list as an argument and return the product of all the numbers after creating a flat list. \n",
    "Use the below-given list as an argument for your function. \n",
    "list1 = [1,2,3,4, [44,55,66, True], False, (34,56,78,89,34), {1,2,3,3,2,1}, {1:34, \"key2\": [55, 67, 78, 89], 4: (45,  22, 61, 34)}, [56, 'data science'], 'Machine Learning'] \n",
    "Note: you must extract numeric keys and values of the dictionary also. "
   ]
  },
  {
   "cell_type": "code",
   "execution_count": 28,
   "id": "4435c914-bf64-4cda-8166-8fd2d59b95ba",
   "metadata": {},
   "outputs": [
    {
     "name": "stdout",
     "output_type": "stream",
     "text": [
      "2315262738624675840\n"
     ]
    }
   ],
   "source": [
    "list1 = [1,2,3,4, [44,55,66, True], False, (34,56,78,89,34), {1,2,3,3,2,1}, {1:34, \"key2\": [55, 67, 78, 89], 4: (45,  22, 61, 34)}, [56, 'data science'], 'Machine Learning'] \n",
    "\n",
    "def prod_nums(lst):\n",
    "    flat_list = []\n",
    "    def flatten(lst):\n",
    "        for item in lst:\n",
    "            if type(item) == list or type(item) == tuple or type(item) == set or type(item) == dict:\n",
    "                flatten(item)\n",
    "            elif type(item) == int or type(item) == float:\n",
    "                flat_list.append(item)\n",
    "    flatten(lst)\n",
    "    product = 1\n",
    "    for num in flat_list:\n",
    "        product *= num\n",
    "    return product\n",
    "\n",
    "list1 = [1,2,3,4, [44,55,66, True], False, (34,56,78,89,34), {1,2,3,3,2,1}, {1:34, \"key2\": [55, 67, 78, 89], 4: (45, 22, 61, 34)}, [56, 'data science'], 'Machine Learning']\n",
    "print(prod_nums(list1))\n"
   ]
  },
  {
   "cell_type": "markdown",
   "id": "eed0c094-b620-4457-b8d6-bec07f7f425a",
   "metadata": {},
   "source": [
    "#### Q2. Write a python program for encrypting a message sent to you by your friend. The logic of encryption  should be such that, for a the output should be z. For b, the output should be y. For c, the output should  be x respectively. Also, the whitespace should be replaced with a dollar sign. Keep the punctuation  marks unchanged. \n",
    "Input Sentence: I want to become a Data Scientist. \n",
    "Encrypt the above input sentence using the program you just created. \n",
    "Note: Convert the given input sentence into lowercase before encrypting. The final output should be  lowercase. \n"
   ]
  },
  {
   "cell_type": "code",
   "execution_count": 3,
   "id": "3e1d1ff9-3392-4971-bb1b-508153820ddb",
   "metadata": {},
   "outputs": [
    {
     "name": "stdin",
     "output_type": "stream",
     "text": [
      "write you sentence :  I want to become a Data Scientist\n"
     ]
    }
   ],
   "source": [
    "#encrypting a input sentence\n",
    "word=list(' '.join('abcdefghijklmnopqrstuvwxyz').split())\n",
    "string=input('write you sentence : ')\n",
    "encryption=list(' '.join(string.replace(' ','$').lower()).split(' '))"
   ]
  },
  {
   "cell_type": "code",
   "execution_count": 5,
   "id": "2765f801-fe8c-44c7-84b1-d1dd1ce34870",
   "metadata": {},
   "outputs": [
    {
     "data": {
      "text/plain": [
       "'r$dzmg$gl$yvxlnv$z$wzgz$hxrvmgrhg'"
      ]
     },
     "execution_count": 5,
     "metadata": {},
     "output_type": "execute_result"
    }
   ],
   "source": [
    "lst=[]\n",
    "for i in encryption:\n",
    "    if i=='$':\n",
    "        lst.extend(i)\n",
    "        continue\n",
    "    p=word.index(i) \n",
    "    lst.extend(word[-p-1])\n",
    "encryption_result=''.join(lst)\n",
    "encryption_result"
   ]
  },
  {
   "cell_type": "code",
   "execution_count": null,
   "id": "c3e91dae-df69-42eb-8126-8bd08e91d25b",
   "metadata": {},
   "outputs": [],
   "source": []
  }
 ],
 "metadata": {
  "kernelspec": {
   "display_name": "Python 3 (ipykernel)",
   "language": "python",
   "name": "python3"
  },
  "language_info": {
   "codemirror_mode": {
    "name": "ipython",
    "version": 3
   },
   "file_extension": ".py",
   "mimetype": "text/x-python",
   "name": "python",
   "nbconvert_exporter": "python",
   "pygments_lexer": "ipython3",
   "version": "3.10.8"
  }
 },
 "nbformat": 4,
 "nbformat_minor": 5
}

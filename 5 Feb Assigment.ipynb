{
 "cells": [
  {
   "cell_type": "markdown",
   "id": "12032587-68c4-4fdf-85f5-fe57a27881f7",
   "metadata": {},
   "source": [
    "#### Q1.Explain Class and Object with respect to Object-Oriented Programming. Give a suitable example."
   ]
  },
  {
   "cell_type": "markdown",
   "id": "5f84382b-aacd-4e1e-8a93-0a5efd3d9315",
   "metadata": {},
   "source": [
    "#### Answer: In Python everything is an object, with its properties and methods.A Class is like an object constructor, or a \"blueprint\" for creating objects."
   ]
  },
  {
   "cell_type": "code",
   "execution_count": 34,
   "id": "95d6854a-1c62-4ea9-b91f-fd651a489e73",
   "metadata": {},
   "outputs": [
    {
     "name": "stdout",
     "output_type": "stream",
     "text": [
      "10\n"
     ]
    }
   ],
   "source": [
    "#Example for class and object\n",
    "class MyClass:\n",
    "  x = 10\n",
    "\n",
    "X1 = MyClass()\n",
    "print(X1.x)"
   ]
  },
  {
   "cell_type": "markdown",
   "id": "d351b5cc-d604-49cd-8d52-1f48f3d3f983",
   "metadata": {},
   "source": [
    "#### Q2.Name the four pillars of OOPs. "
   ]
  },
  {
   "cell_type": "markdown",
   "id": "bebe62d9-52b4-4913-9404-66b604c5e63c",
   "metadata": {},
   "source": [
    "#### Answer:Four pillar of OOPs :Inheritance, Polymorphism, Encapsulation and Abstraction"
   ]
  },
  {
   "cell_type": "markdown",
   "id": "fdb576b8-43fa-4cb7-98ee-45dfc04ef864",
   "metadata": {},
   "source": [
    "#### Q3.Explain why the __init__() function is used. Give a suitable example. "
   ]
  },
  {
   "cell_type": "markdown",
   "id": "69f054d6-d178-450a-a45a-191fc402ea5c",
   "metadata": {},
   "source": [
    "#### Answer: The  __init__() function is used to assign values to object properties, or other operations that are necessary to do when the object is being created"
   ]
  },
  {
   "cell_type": "code",
   "execution_count": 35,
   "id": "578704c4-fb6a-4588-b6b6-e1fa8248bcf6",
   "metadata": {},
   "outputs": [
    {
     "name": "stdout",
     "output_type": "stream",
     "text": [
      "Hello, my name is Rahul\n"
     ]
    }
   ],
   "source": [
    "#Example of __init__()\n",
    "class Person:\n",
    "    def __init__(self, name):\n",
    "        self.name = name\n",
    "    def say_hi(self):\n",
    "        print('Hello, my name is', self.name)\n",
    "        \n",
    "p = Person('Rahul')\n",
    "p.say_hi()"
   ]
  },
  {
   "cell_type": "markdown",
   "id": "a0c08583-d976-4a31-8718-477e76336bd3",
   "metadata": {},
   "source": [
    "#### Q4.Why self is used in OOPs?"
   ]
  },
  {
   "cell_type": "markdown",
   "id": "9ab54ca6-5de9-4b8f-9fc6-3df2de402aac",
   "metadata": {},
   "source": [
    "#### Answer:The self parameter is a reference to the current instance of the class, and is used to access variables that belongs to the class.It does not have to be named self , you can call it whatever you like, but it has to be the first parameter of any function in the clas"
   ]
  },
  {
   "cell_type": "markdown",
   "id": "77eeccd3-6258-40ba-add2-09f9a1a361cf",
   "metadata": {},
   "source": [
    "#### Q5.What is inheritance? Give an example for each type of inheritance. "
   ]
  },
  {
   "cell_type": "markdown",
   "id": "2ed7d835-721f-46bc-9976-b32276759cdc",
   "metadata": {},
   "source": [
    "#### Answer:Inheritance allows us to define a class that inherits all the methods and properties from another class.Parent class is the class being inherited from, also called base class.Child class is the class that inherits from another class, also called derived class.\n",
    "#### There are five types of inheritances:\n",
    "#### Single Inheritance\n",
    "#### Multiple Inheritance\n",
    "#### Multilevel Inheritance\n",
    "#### Hierarchical Inheritance\n",
    "#### Hybrid Inheritance"
   ]
  },
  {
   "cell_type": "code",
   "execution_count": 36,
   "id": "0590d172-3d70-4f20-b96a-7e610c8248dd",
   "metadata": {},
   "outputs": [
    {
     "name": "stdout",
     "output_type": "stream",
     "text": [
      "Hey there, you are in the parent class\n",
      "Hey there, you are in the sub class\n",
      "Hey there, you are in the parent class\n",
      "10\n",
      "5\n"
     ]
    }
   ],
   "source": [
    "#example of Single Inheritance\n",
    "#parent class\n",
    "class Above:\n",
    "    i = 5\n",
    "    def fun1(self):\n",
    "        print('Hey there, you are in the parent class')\n",
    "\n",
    "#subclass\n",
    "class Below(Above):\n",
    "    i=10\n",
    "    def fun2(self):\n",
    "        print('Hey there, you are in the sub class')\n",
    "\n",
    "temp1=Below()\n",
    "temp2=Above()\n",
    "temp1.fun1()\n",
    "temp1.fun2()\n",
    "temp2.fun1()\n",
    "print(temp1.i)\n",
    "print(temp2.i)\n",
    "#temp2.fun2()"
   ]
  },
  {
   "cell_type": "code",
   "execution_count": 37,
   "id": "998b8c04-23ec-4b4a-bb60-5e1682743b09",
   "metadata": {},
   "outputs": [
    {
     "name": "stdout",
     "output_type": "stream",
     "text": [
      "Hey there, you are in the child class\n",
      "first number is : 10\n",
      "second number is : 5\n"
     ]
    }
   ],
   "source": [
    "#example of multiple Inheritance\n",
    "#parent class 1\n",
    "class A:\n",
    "    demo1=0\n",
    "    def fun1(self):\n",
    "        print(self.demo1)\n",
    "\n",
    "#parent class 2\n",
    "class B:\n",
    "    demo2=0\n",
    "    def fun2(self):\n",
    "        print(self.demo2)\n",
    "\n",
    "#child class\n",
    "class C(A, B):\n",
    "    def fun3(self):\n",
    "         print('Hey there, you are in the child class')\n",
    "\n",
    "# Main code\n",
    "c = C()\n",
    "c.demo1 = 10\n",
    "c.demo2 = 5\n",
    "c.fun3()\n",
    "print('first number is :',c.demo1)\n",
    "print('second number is :',c.demo2)"
   ]
  },
  {
   "cell_type": "code",
   "execution_count": 38,
   "id": "c0a2b5a2-fbd6-4eea-af4f-8c35aca4078c",
   "metadata": {},
   "outputs": [
    {
     "name": "stdout",
     "output_type": "stream",
     "text": [
      "electric car runs on electricity\n",
      "a car has 4 wheels\n",
      "vehicles are used for transportation\n"
     ]
    }
   ],
   "source": [
    "#example of multilevel Inheritance\n",
    "#parent class 1\n",
    "class vehicle:\n",
    "    def functioning(self):\n",
    "        print('vehicles are used for transportation')\n",
    "\n",
    "#child class 1\n",
    "class car(vehicle):\n",
    "    def wheels(self):\n",
    "        print('a car has 4 wheels')\n",
    "       \n",
    "#child class 2\n",
    "class electric_car(car):\n",
    "    def speciality(self):\n",
    "        print('electric car runs on electricity')\n",
    "\n",
    "electric=electric_car()\n",
    "electric.speciality()\n",
    "electric.wheels()\n",
    "electric.functioning()"
   ]
  },
  {
   "cell_type": "code",
   "execution_count": 39,
   "id": "28986832-afc3-40ab-bbf8-7db5f491a15b",
   "metadata": {},
   "outputs": [
    {
     "name": "stdout",
     "output_type": "stream",
     "text": [
      "Hey there, you are in the parent class\n",
      "Hey there, you are in the child class 3\n",
      "Hey there, you are in the parent class\n",
      "Hey there, you are in the child class 2\n",
      "Hey there, you are in the parent class\n",
      "Hey there, you are in the child class 1\n"
     ]
    }
   ],
   "source": [
    "#example of Hierarchical Inheritance\n",
    "#parent class\n",
    "class Parent:\n",
    "    def fun1(self):\n",
    "        print('Hey there, you are in the parent class')\n",
    " \n",
    "#child class 1\n",
    "class child1(Parent):\n",
    "    def fun2(self):\n",
    "        print('Hey there, you are in the child class 1')\n",
    "\n",
    "#child class 2 \n",
    "class child2(Parent):\n",
    "    def fun3(self):\n",
    "        print('Hey there, you are in the child class 2')\n",
    " \n",
    "#child class 3\n",
    "class child3(Parent):\n",
    "    def fun4(self):\n",
    "        print('Hey there, you are in the child class 3')\n",
    " \n",
    "# main program\n",
    "child_obj1 = child3()\n",
    "child_obj2 = child2()\n",
    "child_obj3 = child1()\n",
    "child_obj1.fun1()\n",
    "child_obj1.fun4()\n",
    "child_obj2.fun1()\n",
    "child_obj2.fun3()\n",
    "child_obj3.fun1()\n",
    "child_obj3.fun2()"
   ]
  },
  {
   "cell_type": "code",
   "execution_count": 40,
   "id": "0c6cc973-7ed0-43ff-9a23-da273c72abff",
   "metadata": {},
   "outputs": [
    {
     "name": "stdout",
     "output_type": "stream",
     "text": [
      "Hey there, you are in the class D\n",
      "Hey there, you are in class C\n",
      "Hey there, you are in class A\n"
     ]
    }
   ],
   "source": [
    "##example of hybrid Inheritance\n",
    "class A:\n",
    "    def fun1(self):\n",
    "        print('Hey there, you are in class A')\n",
    "class B(A):\n",
    "    def fun2(self):\n",
    "        print('Hey there, you are in class B')\n",
    "class C(A):\n",
    "    def fun3(self):\n",
    "        print('Hey there, you are in class C')\n",
    "class D(C,A): #line 13\n",
    "    def fun4(self):\n",
    "         print('Hey there, you are in the class D')\n",
    "ref = D()\n",
    "ref.fun4()\n",
    "ref.fun3()\n",
    "ref.fun1()"
   ]
  },
  {
   "cell_type": "code",
   "execution_count": null,
   "id": "c0b2a205-53f5-4089-b1d0-59df23442014",
   "metadata": {},
   "outputs": [],
   "source": []
  }
 ],
 "metadata": {
  "kernelspec": {
   "display_name": "Python 3 (ipykernel)",
   "language": "python",
   "name": "python3"
  },
  "language_info": {
   "codemirror_mode": {
    "name": "ipython",
    "version": 3
   },
   "file_extension": ".py",
   "mimetype": "text/x-python",
   "name": "python",
   "nbconvert_exporter": "python",
   "pygments_lexer": "ipython3",
   "version": "3.10.8"
  }
 },
 "nbformat": 4,
 "nbformat_minor": 5
}

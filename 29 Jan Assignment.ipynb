{
 "cells": [
  {
   "cell_type": "markdown",
   "id": "d4a7ab3b-dc7b-4148-8d6a-46f72e8bf14a",
   "metadata": {},
   "source": [
    "### Q.1 Who developed Python Programming Language? "
   ]
  },
  {
   "cell_type": "markdown",
   "id": "7b00d25b-d285-4561-88e8-d28c3720d7e3",
   "metadata": {},
   "source": [
    "### Answer: Python programming language is developed by \"Guido van Rossum\" in the year 1991."
   ]
  },
  {
   "cell_type": "markdown",
   "id": "231cbda7-db07-4aef-9b30-0e6b8527bb2b",
   "metadata": {},
   "source": [
    "### Q.2  Which type of Programming does Python support? "
   ]
  },
  {
   "cell_type": "markdown",
   "id": "a4194813-f65e-473b-b932-4da080bf6d16",
   "metadata": {},
   "source": [
    "### Answer: Python supports high-level programming , Object-oriented programming, functional,dynamic typed and structured programming languages."
   ]
  },
  {
   "cell_type": "markdown",
   "id": "8a96d537-5fdc-4567-ba6c-67ab1c169177",
   "metadata": {},
   "source": [
    "### Q.3 Is Python case sensitive when dealing with identifiers? "
   ]
  },
  {
   "cell_type": "markdown",
   "id": "20dd3da7-5eef-4f57-918e-f8f5a3b3e87b",
   "metadata": {},
   "source": [
    "### Answer: Yes, It is case sensitive ."
   ]
  },
  {
   "cell_type": "markdown",
   "id": "2a5787da-97f4-4b38-8b06-72e8dc3fd786",
   "metadata": {},
   "source": [
    "### Q.4 What is the correct extension of the Python file? "
   ]
  },
  {
   "cell_type": "markdown",
   "id": "193b4207-cb24-4032-9852-705fa0859fce",
   "metadata": {},
   "source": [
    "### Answer: It is .py extension"
   ]
  },
  {
   "cell_type": "markdown",
   "id": "94c7f4f9-5b7e-4e08-84c6-1826987e3d1c",
   "metadata": {},
   "source": [
    "### Q.5 Is Python code compiled or interpreted? "
   ]
  },
  {
   "cell_type": "markdown",
   "id": "ef9ff8a8-562c-4cef-a6ec-36545a53f9bc",
   "metadata": {},
   "source": [
    "### Answer: Python is interpreted."
   ]
  },
  {
   "cell_type": "markdown",
   "id": "ab4a977e-9874-4264-b2d0-40062d555ade",
   "metadata": {},
   "source": [
    "### Q.6 Name a few blocks of code used to define in Python language?"
   ]
  },
  {
   "cell_type": "markdown",
   "id": "6adf57e9-8802-4a6d-83ef-f6e704fdeab8",
   "metadata": {},
   "source": [
    "### Answer: Indentation"
   ]
  },
  {
   "cell_type": "markdown",
   "id": "c947df51-55d5-4e85-a12a-16684aa2f81f",
   "metadata": {},
   "source": [
    "### Q.7 State a character used to give single-line comments in Python?"
   ]
  },
  {
   "cell_type": "markdown",
   "id": "e5696f51-17ec-47df-85b2-f0430641fd73",
   "metadata": {},
   "source": [
    "### Answer: Character used is hash# "
   ]
  },
  {
   "cell_type": "markdown",
   "id": "9a4c574f-69b9-4868-921f-27e4ab12c8b1",
   "metadata": {},
   "source": [
    "### Q.8 Mention functions which can help us to find the version of python that we are currently working on? "
   ]
  },
  {
   "cell_type": "markdown",
   "id": "ad134b85-2caf-447c-ae50-afdbacb8c7c9",
   "metadata": {},
   "source": [
    "### Answer: sys. version"
   ]
  },
  {
   "cell_type": "markdown",
   "id": "798ae7c2-c7d6-42c9-be3d-c1c7c2598bd3",
   "metadata": {},
   "source": [
    "### Q.9 Python supports the creation of anonymous functions at runtime, using a construct called \n"
   ]
  },
  {
   "cell_type": "markdown",
   "id": "f29ce9b7-da3f-4d61-8f7a-7d766058c837",
   "metadata": {},
   "source": [
    "### Answer: lambda"
   ]
  },
  {
   "cell_type": "markdown",
   "id": "1cc24a6b-ff00-462e-a953-82be1b52dc01",
   "metadata": {},
   "source": [
    "### Q.10 What does pip stand for python? "
   ]
  },
  {
   "cell_type": "markdown",
   "id": "adc4e189-d29e-4721-96f0-458c443d2e0b",
   "metadata": {},
   "source": [
    "### Answer: pip stands for \"preferred installer program\""
   ]
  },
  {
   "cell_type": "markdown",
   "id": "15430300-f129-4c61-98ba-538cdf6f99c4",
   "metadata": {},
   "source": [
    "### Q.11 Mention a few built-in functions in python? "
   ]
  },
  {
   "cell_type": "markdown",
   "id": "adc4013d-d145-4567-a12d-c2733aec0721",
   "metadata": {},
   "source": [
    "### Answer: print()  \n",
    "### type()\n",
    "### input()\n",
    "### format()\n",
    "### pop()"
   ]
  },
  {
   "cell_type": "markdown",
   "id": "b782f703-fa58-417f-9396-efdaa725059a",
   "metadata": {},
   "source": [
    "### Q.12 What is the maximum possible length of an identifier in Python? "
   ]
  },
  {
   "cell_type": "markdown",
   "id": "f589d985-34e3-4560-9b6c-6d26574fa11e",
   "metadata": {},
   "source": [
    "### Answer: 79"
   ]
  },
  {
   "cell_type": "markdown",
   "id": "954d2026-cc66-4d79-8a8a-beedc45f2ee2",
   "metadata": {},
   "source": [
    "### Q.13 What are the benefits of using Python? "
   ]
  },
  {
   "cell_type": "markdown",
   "id": "83e08074-e415-40a0-a156-7d9cf6f7e475",
   "metadata": {},
   "source": [
    "### Answer: It is beginner friendly language. Syntax is easy to understand. It is widely used. There is large community for python.It is general purpose language."
   ]
  },
  {
   "cell_type": "markdown",
   "id": "7b49783c-6341-42a4-90c9-ff27e38014fd",
   "metadata": {},
   "source": [
    "### Q.14 How is memory managed in Python? "
   ]
  },
  {
   "cell_type": "markdown",
   "id": "e114d594-3863-41ae-b020-5fbc43225d52",
   "metadata": {},
   "source": [
    "### Answer: its managed in heap using data structures and algorithm"
   ]
  },
  {
   "cell_type": "markdown",
   "id": "a1ccf2cc-dd20-46e3-bc96-61b461a623f5",
   "metadata": {},
   "source": [
    "### Q.15 How to install Python on Windows and set path variables?"
   ]
  },
  {
   "cell_type": "markdown",
   "id": "8ad5b51b-d40e-4cb4-b355-abfa1fbf6a71",
   "metadata": {},
   "source": [
    "### Answer: 1.open this link in your browser https://www.python.org/downloads/ 2.download the python 3.run the installer. 4.Add python in your environment variables. 5. verify the installationa."
   ]
  },
  {
   "cell_type": "markdown",
   "id": "78d02d6f-b2be-4d46-a912-a8806007fee2",
   "metadata": {},
   "source": [
    "### Q.16  Is indentation required in python? "
   ]
  },
  {
   "cell_type": "markdown",
   "id": "d8fc7824-849b-45f7-9f66-43c078505546",
   "metadata": {},
   "source": [
    "### Answer: Yes, it is."
   ]
  },
  {
   "cell_type": "code",
   "execution_count": null,
   "id": "42855d32-5dad-4e6f-86b1-48b014a2d9a0",
   "metadata": {},
   "outputs": [],
   "source": []
  }
 ],
 "metadata": {
  "kernelspec": {
   "display_name": "Python 3 (ipykernel)",
   "language": "python",
   "name": "python3"
  },
  "language_info": {
   "codemirror_mode": {
    "name": "ipython",
    "version": 3
   },
   "file_extension": ".py",
   "mimetype": "text/x-python",
   "name": "python",
   "nbconvert_exporter": "python",
   "pygments_lexer": "ipython3",
   "version": "3.10.8"
  }
 },
 "nbformat": 4,
 "nbformat_minor": 5
}

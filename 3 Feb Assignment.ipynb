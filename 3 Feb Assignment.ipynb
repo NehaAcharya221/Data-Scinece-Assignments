{
 "cells": [
  {
   "cell_type": "markdown",
   "id": "2aa980a5-3039-4c7e-bbc6-c8872eed487a",
   "metadata": {},
   "source": [
    "#### Q1.Which keyword is used to create a function? Create a function to return a list of odd numbers in the range of 1 to 25. "
   ]
  },
  {
   "cell_type": "markdown",
   "id": "a2099faf-9fd7-4a70-bef1-b732a7adc787",
   "metadata": {},
   "source": [
    "#### Answer: The def keyword is used to create a function. "
   ]
  },
  {
   "cell_type": "code",
   "execution_count": 6,
   "id": "d7aef287-c163-416f-a3d6-abea8e3528c2",
   "metadata": {},
   "outputs": [],
   "source": [
    "# function to return a list of odd numbers.\n",
    "def odd_nums():\n",
    "    n=[]\n",
    "    for i in range(1,25):\n",
    "        if i%2==1:\n",
    "           n.append(i)\n",
    "    return n \n"
   ]
  },
  {
   "cell_type": "code",
   "execution_count": 7,
   "id": "2fc4c413-5759-4d0a-9706-ee3900da459a",
   "metadata": {},
   "outputs": [
    {
     "data": {
      "text/plain": [
       "[1, 3, 5, 7, 9, 11, 13, 15, 17, 19, 21, 23]"
      ]
     },
     "execution_count": 7,
     "metadata": {},
     "output_type": "execute_result"
    }
   ],
   "source": [
    "odd_nums()"
   ]
  },
  {
   "cell_type": "markdown",
   "id": "2768c258-d9c3-494e-8813-6ee7c769af91",
   "metadata": {},
   "source": [
    "#### Q2.Why *args and **kwargs is used in some functions? Create a function each for *args and **kwargs to demonstrate their use. "
   ]
  },
  {
   "cell_type": "markdown",
   "id": "323116ea-a81c-4333-96e4-c665c0ec8102",
   "metadata": {},
   "source": [
    "#### Answer: We can use *args and **kwargs as arguments of a function when we are unsure about the number of arguments to pass in the functions. *args allows us to pass a variable number of non-keyword arguments to a Python function.**kwargs allows us to pass a variable number of keyword arguments to a Python function"
   ]
  },
  {
   "cell_type": "code",
   "execution_count": 8,
   "id": "5ac00b94-f0f0-4958-bfa0-7729863afb8a",
   "metadata": {},
   "outputs": [
    {
     "name": "stdout",
     "output_type": "stream",
     "text": [
      "[[45, 89, 10], ['neha', 'nisha', 'raghu']]\n"
     ]
    }
   ],
   "source": [
    "# function for *args\n",
    "# Here in this function it will create the list using function *args ,\n",
    "def test_3(*args):\n",
    "    l3=[]\n",
    "    for i in args:\n",
    "        if type(i) == list:\n",
    "            l3.append(i)\n",
    "    return l3\n",
    "print(test_3(1,2,3,4,56,[45,89,10],[\"neha\",\"nisha\",\"raghu\"],\"neha_Acharya\")) "
   ]
  },
  {
   "cell_type": "code",
   "execution_count": 9,
   "id": "1b418d54-541d-467b-a8cf-731008a1a779",
   "metadata": {},
   "outputs": [
    {
     "name": "stdout",
     "output_type": "stream",
     "text": [
      "{'a': 4, 'b': 56, 'c': 'neha', 'd': 'acharya', 'f': [10, 23, 'loop']}\n"
     ]
    }
   ],
   "source": [
    "# function for **kwargs\n",
    "# Here in this function it will create the dictionary using function **kwargs ,\n",
    "def test_4(**kwargs):\n",
    "    return kwargs\n",
    "print(test_4(a=4,b=56,c='neha',d='acharya',f=[10,23,'loop']))"
   ]
  },
  {
   "cell_type": "markdown",
   "id": "3b6bb330-34d7-49b5-9949-77b396c8cf61",
   "metadata": {},
   "source": [
    "#### Q3.What is an iterator in python? Name the method used to initialise the iterator object and the method  used for iteration.Use these methods to print the first five elements of the given list [2, 4, 6, 8, 10, 12, 14, 16,  18, 20]. \n"
   ]
  },
  {
   "cell_type": "markdown",
   "id": "92025526-4242-44c5-b590-b2666d76eca3",
   "metadata": {},
   "source": [
    "#### Answer: An iterator is an object that contains a countable number of values. The iterator object is initialized using the iter() method.It uses the next() method for iteration."
   ]
  },
  {
   "cell_type": "code",
   "execution_count": 10,
   "id": "1b1dda7b-6de2-46f5-8a99-925345ec28d1",
   "metadata": {},
   "outputs": [
    {
     "name": "stdout",
     "output_type": "stream",
     "text": [
      "2\n",
      "4\n",
      "6\n",
      "8\n",
      "10\n"
     ]
    }
   ],
   "source": [
    "# # printing the first five elements of the given list.\n",
    "my_list = [2, 4, 6, 8, 10, 12, 14, 16, 18, 20]\n",
    "iterator = iter(my_list)\n",
    "\n",
    "print(next(iterator)) \n",
    "print(next(iterator))  \n",
    "print(next(iterator))\n",
    "print(next(iterator))  \n",
    "print(next(iterator))"
   ]
  },
  {
   "cell_type": "markdown",
   "id": "f5384b08-c62d-4f48-a96d-3340c531ad2e",
   "metadata": {},
   "source": [
    "#### Q4.What is a generator function in python? Why yield keyword is used? Give an example of a generator function. "
   ]
  },
  {
   "cell_type": "markdown",
   "id": "c8d6679b-d01a-45f3-a74e-2139db163ed5",
   "metadata": {},
   "source": [
    "#### Answer: In Python, a generator is a function that returns an iterator that produces a sequence of values when iterated over. Generators are useful when we want to produce a large sequence of values, but we don't want to store all of them in memory at once.\n",
    "#### yield keyword is used to create a generator function. A type of function that is memory efficient and can be used like an iterator object."
   ]
  },
  {
   "cell_type": "code",
   "execution_count": 11,
   "id": "e1439c0a-dba5-44b1-9fa1-a1656cdb96bb",
   "metadata": {},
   "outputs": [
    {
     "name": "stdout",
     "output_type": "stream",
     "text": [
      "0\n",
      "1\n",
      "1\n",
      "2\n",
      "3\n",
      "5\n",
      "8\n",
      "13\n",
      "21\n",
      "34\n"
     ]
    }
   ],
   "source": [
    "# example of generator function \n",
    "# generating fibonacci series\n",
    "def test_fib(n):\n",
    "    a,b=0,1\n",
    "    for i in range(n):\n",
    "        yield a\n",
    "        a,b=b,a+b\n",
    "\n",
    "for j in test_fib(10): # generating fibonacci series for range 10 \n",
    "    print(j)"
   ]
  },
  {
   "cell_type": "markdown",
   "id": "3a68cab9-e8fe-4322-8e4a-dc3774c0f029",
   "metadata": {},
   "source": [
    "#### Q5.Create a generator function for prime numbers less than 1000. Use the next() method to print the first 20 prime numbers"
   ]
  },
  {
   "cell_type": "code",
   "execution_count": 20,
   "id": "bcea0701-e68e-45c8-9345-74c2b52fd392",
   "metadata": {},
   "outputs": [
    {
     "name": "stdout",
     "output_type": "stream",
     "text": [
      "2\n",
      "3\n",
      "4\n",
      "5\n",
      "7\n",
      "11\n",
      "13\n",
      "17\n",
      "19\n",
      "23\n",
      "29\n",
      "31\n",
      "37\n",
      "41\n",
      "43\n",
      "47\n",
      "53\n",
      "59\n",
      "61\n",
      "67\n"
     ]
    }
   ],
   "source": [
    "# creating generator function for printing prime numbers less than 1000\n",
    "def prime_generator():\n",
    "    yield 2\n",
    "    p1=[]\n",
    "    for i in range(3,1000):\n",
    "        is_prime=True\n",
    "        for prime in p1:\n",
    "            if i % prime ==0:\n",
    "                is_prime=False\n",
    "                break\n",
    "        if is_prime:\n",
    "            p1.append(i)\n",
    "            yield i\n",
    "\n",
    "prime_gen= prime_generator()\n",
    "\n",
    "for i in range(20):\n",
    "    print(next(prime_gen))"
   ]
  },
  {
   "cell_type": "code",
   "execution_count": null,
   "id": "b042e5d3-dd36-4420-b7b5-141f9b8283d7",
   "metadata": {},
   "outputs": [],
   "source": []
  }
 ],
 "metadata": {
  "kernelspec": {
   "display_name": "Python 3 (ipykernel)",
   "language": "python",
   "name": "python3"
  },
  "language_info": {
   "codemirror_mode": {
    "name": "ipython",
    "version": 3
   },
   "file_extension": ".py",
   "mimetype": "text/x-python",
   "name": "python",
   "nbconvert_exporter": "python",
   "pygments_lexer": "ipython3",
   "version": "3.10.8"
  }
 },
 "nbformat": 4,
 "nbformat_minor": 5
}

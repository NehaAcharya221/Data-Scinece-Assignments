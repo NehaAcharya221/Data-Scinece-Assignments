{
 "cells": [
  {
   "cell_type": "markdown",
   "id": "ace428ec-f44d-4860-b9b2-96d4a7b731fa",
   "metadata": {},
   "source": [
    "#### Q1.What is multiprocessing in python? Why is it useful? "
   ]
  },
  {
   "cell_type": "markdown",
   "id": "cbe230df-aadb-4b9d-a118-18ae647f29d2",
   "metadata": {},
   "source": [
    "#### Answer: Multiprocessing refers to the ability of a system to support more than one processor at the same time. Applications in a multiprocessing system are broken to smaller routines that run independently. The operating system allocates these threads to the processors improving performance of the system."
   ]
  },
  {
   "cell_type": "markdown",
   "id": "d8f8e1f9-2a93-4c4e-b49e-7c1bad393590",
   "metadata": {},
   "source": [
    "#### Multiprocessing is useful for CPU-bound processes, such as computationally heavy tasks since it will benefit from having multiple processors; similar to how multicore computers work faster than computers with a single core."
   ]
  },
  {
   "cell_type": "markdown",
   "id": "4b256fa8-9186-48a6-97ce-da542cc71694",
   "metadata": {},
   "source": [
    "#### Q2.What are the differences between multiprocessing and multithreading?"
   ]
  },
  {
   "cell_type": "markdown",
   "id": "fa3b8a2a-0a55-4516-a464-156ca72bd29f",
   "metadata": {},
   "source": [
    "#### Answer: Multiprocessing executes many processes simultaneously, whereas multithreading executes many threads simultaneously. Multithreading uses a common address space for all the threads, whereas multiprocessing creates a separate address space for each process."
   ]
  },
  {
   "cell_type": "markdown",
   "id": "cade023b-3009-4016-b601-fc6dc25b379f",
   "metadata": {},
   "source": [
    "#### Q3.Write a python code to create a process using the multiprocessing module."
   ]
  },
  {
   "cell_type": "code",
   "execution_count": 6,
   "id": "89fedaa0-aa84-4e79-b9d6-e13b75a515a4",
   "metadata": {},
   "outputs": [
    {
     "name": "stdout",
     "output_type": "stream",
     "text": [
      "Square: 100\n",
      "Cube: 1000\n",
      "Done!\n"
     ]
    }
   ],
   "source": [
    "# importing the multiprocessing module\n",
    "import multiprocessing\n",
    "  \n",
    "def print_cube(num):\n",
    "    \"\"\"\n",
    "    function to print cube of given num\n",
    "    \"\"\"\n",
    "    print(\"Cube: {}\".format(num * num * num))\n",
    "  \n",
    "def print_square(num):\n",
    "    \"\"\"\n",
    "    function to print square of given num\n",
    "    \"\"\"\n",
    "    print(\"Square: {}\".format(num * num))\n",
    "  \n",
    "if __name__ == \"__main__\":\n",
    "    p1 = multiprocessing.Process(target=print_square, args=(10, ))\n",
    "    p2 = multiprocessing.Process(target=print_cube, args=(10, ))\n",
    "  \n",
    "    p1.start()\n",
    "    p2.start()\n",
    "  \n",
    "    p1.join()\n",
    "    p2.join()\n",
    "  \n",
    "    print(\"Done!\")"
   ]
  },
  {
   "cell_type": "markdown",
   "id": "ba375123-545e-4883-bea3-8322c375c0b4",
   "metadata": {},
   "source": [
    "#### Q4. What is a multiprocessing pool in python? Why is it used? "
   ]
  },
  {
   "cell_type": "markdown",
   "id": "a30216c4-04a5-44d9-8bca-8cddec15d0bd",
   "metadata": {},
   "source": [
    "#### Answer:The Python Multiprocessing Pool class allows you to create and manage process pools in Python.The multiprocessing.pool.Pool class can also be accessed by the alias multiprocessing.Pool. They can be used interchangeably."
   ]
  },
  {
   "cell_type": "markdown",
   "id": "f58a7454-d739-4756-babf-de41ccc2936d",
   "metadata": {},
   "source": [
    "#### Python multiprocessing Pool can be used for parallel execution of a function across multiple input values, distributing the input data across processes (data parallelism)."
   ]
  },
  {
   "cell_type": "markdown",
   "id": "7b9767ad-90fc-4a7d-a983-c51aa36d6485",
   "metadata": {},
   "source": [
    "#### Q5. How can we create a pool of worker processes in python using the multiprocessing module? "
   ]
  },
  {
   "cell_type": "markdown",
   "id": "bdb6ce11-d4c7-4acd-aa63-36522dd96755",
   "metadata": {},
   "source": [
    "#### Answer: The Pool class represents a pool of worker processes. It has methods which allows tasks to be offloaded to the worker processes in a few different ways."
   ]
  },
  {
   "cell_type": "markdown",
   "id": "9f29df6e-0b83-46f7-91e6-49f5fa5fa0c4",
   "metadata": {},
   "source": [
    "#### there are four main steps in the life-cycle of using the multiprocessing.Pool class, they are: create, submit, wait, and shutdown.\n",
    "#### Create: Create the process pool by calling the constructor multiprocessing.Pool().\n",
    "#### Submit: Submit tasks synchronously or asynchronously.\n",
    "#### Wait: Wait and get results as tasks complete (optional).\n",
    "#### Shutdown: Shutdown the process pool by calling shutdown()."
   ]
  },
  {
   "cell_type": "code",
   "execution_count": 3,
   "id": "579e68e0-a812-4898-a94c-6c6bc1eef2f6",
   "metadata": {},
   "outputs": [
    {
     "name": "stdout",
     "output_type": "stream",
     "text": [
      " Process A waiting 5 seconds Process B waiting 2 seconds\n",
      "\n",
      " Process B Finished.\n",
      " Process C waiting 1 seconds\n",
      " Process C Finished.\n",
      " Process D waiting 3 seconds\n",
      " Process A Finished.\n",
      " Process D Finished.\n"
     ]
    }
   ],
   "source": [
    "# example of pool pf workers processes with multiprocessing module\n",
    "from multiprocessing import Pool\n",
    "\n",
    "import time\n",
    "\n",
    "work = ([\"A\", 5], [\"B\", 2], [\"C\", 1], [\"D\", 3])\n",
    "\n",
    "\n",
    "def work_log(work_data):\n",
    "    print(\" Process %s waiting %s seconds\" % (work_data[0], work_data[1]))\n",
    "    time.sleep(int(work_data[1]))\n",
    "    print(\" Process %s Finished.\" % work_data[0])\n",
    "\n",
    "\n",
    "def pool_handler():\n",
    "    p = Pool(2)\n",
    "    p.map(work_log, work)\n",
    "\n",
    "\n",
    "if __name__ == '__main__':\n",
    "    pool_handler()"
   ]
  },
  {
   "cell_type": "markdown",
   "id": "3944ea6f-dcf6-4b15-9fe4-eeeaff72d37a",
   "metadata": {},
   "source": [
    "#### Q6.Write a python program to create 4 processes, each process should print a different number using the  multiprocessing module in python. "
   ]
  },
  {
   "cell_type": "code",
   "execution_count": 8,
   "id": "7b7432b7-f65b-4da9-b057-0b29bef99d01",
   "metadata": {},
   "outputs": [
    {
     "name": "stdout",
     "output_type": "stream",
     "text": [
      "Number1 10\n",
      "Number2 11\n",
      "Number3 12\n",
      "Number4 13\n",
      "Done!\n"
     ]
    }
   ],
   "source": [
    "# importing the multiprocessing module\n",
    "import multiprocessing\n",
    "  \n",
    "def Number1(num):\n",
    "    \"\"\"\n",
    "    function to print cube of given num\n",
    "    \"\"\"\n",
    "    print(\"Number1 {}\".format(num))\n",
    "  \n",
    "def Number2(num):\n",
    "    \"\"\"\n",
    "    function to print square of given num\n",
    "    \"\"\"\n",
    "    print(\"Number2 {}\".format(num))\n",
    "    \n",
    "def Number3(num):\n",
    "    \"\"\"\n",
    "    function to print square of given num\n",
    "    \"\"\"\n",
    "    print(\"Number3 {}\".format(num))\n",
    "    \n",
    "def Number4(num):\n",
    "    \"\"\"\n",
    "    function to print square of given num\n",
    "    \"\"\"\n",
    "    print(\"Number4 {}\".format(num))\n",
    "  \n",
    "if __name__ == \"__main__\":\n",
    "    p1 = multiprocessing.Process(target=Number1, args=(10, ))\n",
    "    p2 = multiprocessing.Process(target=Number2, args=(11, ))\n",
    "    p3 = multiprocessing.Process(target=Number3, args=(12, ))\n",
    "    p4 = multiprocessing.Process(target=Number4, args=(13, ))\n",
    "  \n",
    "    p1.start()\n",
    "    p2.start()\n",
    "    p3.start()\n",
    "    p4.start()\n",
    "  \n",
    "    p1.join()\n",
    "    p2.join()\n",
    "    p3.join()\n",
    "    p4.join()\n",
    "  \n",
    "    print(\"Done!\")"
   ]
  },
  {
   "cell_type": "code",
   "execution_count": null,
   "id": "548a1617-e6d5-4c89-80f6-ea4f81afbce5",
   "metadata": {},
   "outputs": [],
   "source": []
  }
 ],
 "metadata": {
  "kernelspec": {
   "display_name": "Python 3 (ipykernel)",
   "language": "python",
   "name": "python3"
  },
  "language_info": {
   "codemirror_mode": {
    "name": "ipython",
    "version": 3
   },
   "file_extension": ".py",
   "mimetype": "text/x-python",
   "name": "python",
   "nbconvert_exporter": "python",
   "pygments_lexer": "ipython3",
   "version": "3.10.8"
  }
 },
 "nbformat": 4,
 "nbformat_minor": 5
}

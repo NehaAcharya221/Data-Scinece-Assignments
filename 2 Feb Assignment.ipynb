{
 "cells": [
  {
   "cell_type": "markdown",
   "id": "6e3b38d8-007f-480f-8543-9ed9386bc230",
   "metadata": {},
   "source": [
    "#### Q1. What are the characteristics of the tuples? Is tuple immutable? "
   ]
  },
  {
   "cell_type": "markdown",
   "id": "3f292275-56f3-4f74-9d7a-62ea254768c8",
   "metadata": {},
   "source": [
    "#### Answer:Below are the characteristics of the tuples:\n",
    "#### 1)Tuples are ordered.\n",
    "#### 2)Tuples are indexed.\n",
    "#### 3)Tuples are immutable.\n",
    "\n",
    "#### Yes tuple is immutable."
   ]
  },
  {
   "cell_type": "markdown",
   "id": "428f0fd2-ee72-487b-90a5-5aca8b79ab93",
   "metadata": {},
   "source": [
    "#### Q2. What are the two tuple methods in python? Give an example of each method. Give a reason why  tuples have only two in-built methods as compared to Lists. "
   ]
  },
  {
   "cell_type": "markdown",
   "id": "16271fc9-88e8-4d49-bd31-a537a2c6a4f3",
   "metadata": {},
   "source": [
    "#### Answer: There two methods in tuple as below:\n",
    "#### 1. count()\n",
    "#### 2. index()\n",
    "#### Below are the example of count() and index():"
   ]
  },
  {
   "cell_type": "code",
   "execution_count": 2,
   "id": "69e5ce14-675d-4fb6-841c-f063fe09e43e",
   "metadata": {},
   "outputs": [
    {
     "name": "stdout",
     "output_type": "stream",
     "text": [
      "3\n"
     ]
    }
   ],
   "source": [
    "## example of  count() method: here it will print the count of element 1 occured in tup \n",
    "tup=(1,1,3,2,1)\n",
    "x=tup.count(1)\n",
    "print(x)"
   ]
  },
  {
   "cell_type": "code",
   "execution_count": 3,
   "id": "b97b7961-06db-43f9-8739-86e088acc2ef",
   "metadata": {},
   "outputs": [
    {
     "name": "stdout",
     "output_type": "stream",
     "text": [
      "3\n"
     ]
    }
   ],
   "source": [
    "## example of  index() method: here it will print the index of element 2 in tup1\n",
    "tup1=(1,1,3,2,1)\n",
    "x=tup1.index(2)\n",
    "print(x)"
   ]
  },
  {
   "cell_type": "markdown",
   "id": "e58b8ec2-d7b1-49eb-9713-67a982181780",
   "metadata": {},
   "source": [
    "#### Reason:-\n",
    "#### Tuples have only two in-built count() and index() methods as compared to Lists because tuples are immutable and on other hand list are mutable. Tuples cannot be change they are just read only, they always remain the same and constant."
   ]
  },
  {
   "cell_type": "markdown",
   "id": "1e978fca-aee3-4e61-b201-602f9a0c9db3",
   "metadata": {},
   "source": [
    "#### Q3.Which collection datatypes in python do not allow duplicate items? Write a code using a set to remove duplicates from the given list. List = [1, 1, 1, 2, 1, 3, 1, 4, 2, 1, 2, 2, 2, 3, 2, 4, 3, 1, 3, 2, 3, 3, 3, 4, 4, 1, 4, 2, 4, 3, 4, 4] "
   ]
  },
  {
   "cell_type": "markdown",
   "id": "a678b300-0539-46e5-8c26-df2703ec2498",
   "metadata": {},
   "source": [
    "#### Answer:In python set do not allow duplicate items."
   ]
  },
  {
   "cell_type": "code",
   "execution_count": 4,
   "id": "03fa538b-4794-49c2-973e-b7edff3fa0fa",
   "metadata": {},
   "outputs": [
    {
     "name": "stdout",
     "output_type": "stream",
     "text": [
      "{1, 2, 3, 4}\n"
     ]
    }
   ],
   "source": [
    "# code to remove duplicate items from the list\n",
    "List = [1, 1, 1, 2, 1, 3, 1, 4, 2, 1, 2, 2, 2, 3, 2, 4, 3, 1, 3, 2, 3, 3, 3, 4, 4, 1, 4, 2, 4, 3, 4, 4]\n",
    "print(set(List))"
   ]
  },
  {
   "cell_type": "markdown",
   "id": "f1f81060-c512-4c09-af70-d5abcd9004c6",
   "metadata": {},
   "source": [
    "#### Q4. Explain the difference between the union() and update() methods for a set. Give an example of  each method. "
   ]
  },
  {
   "cell_type": "markdown",
   "id": "14068c97-539c-4357-a017-7864d0c6771b",
   "metadata": {},
   "source": [
    "#### Answer:\n",
    "#### Difference between union() and update() for set is explained as below.\n",
    "#### s = {1,2,3,4}\n",
    "#### t = {4,5,6,7} \n",
    "#### union()  = In union it display the new set with elements from both s and t\n",
    "#### update() = In update it will return the set s with elements added from t"
   ]
  },
  {
   "cell_type": "code",
   "execution_count": 5,
   "id": "2114dac1-6d4a-4e05-a51c-04c29a4dec6c",
   "metadata": {},
   "outputs": [
    {
     "name": "stdout",
     "output_type": "stream",
     "text": [
      "{'acharya', 'jelly', 'loop', 12, 'neha', 21, '89', 56}\n"
     ]
    }
   ],
   "source": [
    "# example of union() for a set\n",
    "s1={12,\"neha\",\"jelly\",56}\n",
    "s2={21,\"acharya\",\"89\",\"loop\"}\n",
    "print(s1.union(s2))"
   ]
  },
  {
   "cell_type": "code",
   "execution_count": 6,
   "id": "b9b9758e-28ec-49d0-bb54-b4bc0ccbd6bb",
   "metadata": {},
   "outputs": [
    {
     "name": "stdout",
     "output_type": "stream",
     "text": [
      "{'a', 1, 'b', 2, 3}\n"
     ]
    }
   ],
   "source": [
    "# example of update() for a set\n",
    "A = {'a', 'b'}\n",
    "B = {1, 2, 3}\n",
    "A.update(B)\n",
    "print(A)"
   ]
  },
  {
   "cell_type": "markdown",
   "id": "3f44f23d-c5b8-4d51-a433-81ae0156640c",
   "metadata": {},
   "source": [
    "#### Q5. What is a dictionary? Give an example. Also, state whether a dictionary is ordered or unordered. "
   ]
  },
  {
   "cell_type": "markdown",
   "id": "121035af-1992-44ef-9f79-9dd5d42b5855",
   "metadata": {},
   "source": [
    "#### Dictionaries are used to store data values in key:value pairs."
   ]
  },
  {
   "cell_type": "code",
   "execution_count": 7,
   "id": "231e7b25-632d-4d04-83ae-b0e571583686",
   "metadata": {},
   "outputs": [
    {
     "name": "stdout",
     "output_type": "stream",
     "text": [
      "{'key1': 'neha', 'course_name': 'DS Masters', 'cell_num': 56568989}\n"
     ]
    }
   ],
   "source": [
    "#Example of dictionary\n",
    "dict_1={\"key1\":\"neha\",\"course_name\":\"DS Masters\",\"cell_num\":56568989}\n",
    "print(dict_1)"
   ]
  },
  {
   "cell_type": "markdown",
   "id": "fe0de6c4-919b-4541-b74e-0dd1e9557556",
   "metadata": {},
   "source": [
    "####  A dictionary is a ordered."
   ]
  },
  {
   "cell_type": "markdown",
   "id": "ca33bb7c-a0fa-447c-bfc7-efcc051c20b3",
   "metadata": {},
   "source": [
    "#### Q6. Can we create a nested dictionary? If so, please give an example by creating a simple one-level  nested dictionary."
   ]
  },
  {
   "cell_type": "markdown",
   "id": "64d57fb7-056f-489b-99b4-9593f656667d",
   "metadata": {},
   "source": [
    "#### Answer: Yes we can create a nested dictionary."
   ]
  },
  {
   "cell_type": "code",
   "execution_count": 8,
   "id": "688d86b5-c83e-4645-816b-3c8bfa049889",
   "metadata": {},
   "outputs": [
    {
     "name": "stdout",
     "output_type": "stream",
     "text": [
      "{'info1': {'name1': 'rahul', 'surname': 'jain'}, 'info2': {'name2': 'pramod', 'surname': 'kashyap'}}\n"
     ]
    }
   ],
   "source": [
    "# example of nested dictioary.\n",
    "dict_2 = {\"info1\" : {\"name1\" : \"rahul\",\"surname\" :\"jain\"},\"info2\" : {\"name2\" : \"pramod\",\"surname\" : \"kashyap\"}}\n",
    "print(dict_2)"
   ]
  },
  {
   "cell_type": "markdown",
   "id": "d2d90d46-3ea4-4b96-bf01-1028a7984190",
   "metadata": {},
   "source": [
    "#### Q7. Using setdefault() method, create key named topics in the given dictionary and also add the value of  the key as this list ['Python', 'Machine Learning’, 'Deep Learning'] \n",
    "dict1 = {'language' : 'Python', 'course': 'Data Science Masters'} "
   ]
  },
  {
   "cell_type": "code",
   "execution_count": 9,
   "id": "adc42668-37da-4c33-a09c-c1ea8934bb72",
   "metadata": {},
   "outputs": [
    {
     "name": "stdout",
     "output_type": "stream",
     "text": [
      "{'language': 'Python', 'course': 'Data Science Masters', 'topics': ['Python', 'Machine Learning', 'Deep Learning']}\n"
     ]
    }
   ],
   "source": [
    "# creating a key with value using setdefault method and storing it dictionary dict1.\n",
    "dict1 = {'language' : 'Python', 'course': 'Data Science Masters'}\n",
    "dict1.setdefault('topics',['Python','Machine Learning','Deep Learning'] )\n",
    "print(dict1)"
   ]
  },
  {
   "cell_type": "markdown",
   "id": "2efa8905-5e2c-40c5-9c69-200a03f69fa7",
   "metadata": {},
   "source": [
    "#### Q8. What are the three view objects in dictionaries? Use the three in-built methods in python to display  these three view objects for the given dictionary. \n",
    "dict1 = {'Sport': 'Cricket' , 'Teams': ['India', 'Australia', 'England', 'South Africa', 'Sri Lanka', 'New Zealand']} "
   ]
  },
  {
   "cell_type": "markdown",
   "id": "fe7a4a98-ac59-4f2b-8d43-fd6f0df76c8e",
   "metadata": {},
   "source": [
    "#### Answer: The three main view objects of dictionary in python are keys, values and items. Below are examples of three view objects keys(), values() and items() of dictionary."
   ]
  },
  {
   "cell_type": "code",
   "execution_count": 10,
   "id": "83c10207-10e9-46a4-b881-612bbe86d2ad",
   "metadata": {},
   "outputs": [],
   "source": [
    "dict1 = {'Sport': 'Cricket' , 'Teams': ['India', 'Australia', 'England', 'South Africa', 'Sri Lanka', 'New Zealand']} \n",
    "#displaying the keys of dictionary\n",
    "d1=dict1.keys()\n",
    "#displaying the values of dictionary\n",
    "d2=dict1.values()\n",
    "#displaying the items of dictionary\n",
    "d3=dict1.items()"
   ]
  },
  {
   "cell_type": "code",
   "execution_count": 49,
   "id": "1fee9ee4-f33f-4fd6-b4b6-ebca25940b38",
   "metadata": {},
   "outputs": [
    {
     "name": "stdout",
     "output_type": "stream",
     "text": [
      "dict_keys(['Sport', 'Teams']) dict_values(['Cricket', ['India', 'Australia', 'England', 'South Africa', 'Sri Lanka', 'New Zealand']]) dict_items([('Sport', 'Cricket'), ('Teams', ['India', 'Australia', 'England', 'South Africa', 'Sri Lanka', 'New Zealand'])])\n"
     ]
    }
   ],
   "source": [
    "print(d1,d2,d3)  #printing the three view objects of dictionary dict1 in sinlge line"
   ]
  },
  {
   "cell_type": "code",
   "execution_count": null,
   "id": "7c36eecf-f747-4430-8558-70bf3ea8b862",
   "metadata": {},
   "outputs": [],
   "source": []
  }
 ],
 "metadata": {
  "kernelspec": {
   "display_name": "Python 3 (ipykernel)",
   "language": "python",
   "name": "python3"
  },
  "language_info": {
   "codemirror_mode": {
    "name": "ipython",
    "version": 3
   },
   "file_extension": ".py",
   "mimetype": "text/x-python",
   "name": "python",
   "nbconvert_exporter": "python",
   "pygments_lexer": "ipython3",
   "version": "3.10.8"
  }
 },
 "nbformat": 4,
 "nbformat_minor": 5
}

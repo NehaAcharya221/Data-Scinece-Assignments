{
 "cells": [
  {
   "cell_type": "markdown",
   "id": "f1b2dfd4-228c-4611-a4fc-9648804260af",
   "metadata": {},
   "source": [
    "#### Q1.Which function is used to open a file? What are the different modes of opening a file? Explain each mode of file opening. "
   ]
  },
  {
   "cell_type": "markdown",
   "id": "0ec96c22-0274-4257-ae12-f0af1e2ffe86",
   "metadata": {},
   "source": [
    "#### Answer: Function used to opena file is  f = open(filename, mode). Different modes of opening file are r , w , a , r+, w+ & a+\n",
    "#### r: open an existing file for a read operation.\n",
    "#### w: open an existing file for a write operation. If the file already contains some data then it will be overridden but if the file is not present then it creates the file as well.\n",
    "#### a:  open an existing file for append operation. It won’t override existing data.\n",
    "#### r+:  To read and write data into the file. The previous data in the file will be overridden.\n",
    "#### w+: To write and read data. It will override existing data.\n",
    "#### a+: To append and read data from the file. It won’t override existing data."
   ]
  },
  {
   "cell_type": "markdown",
   "id": "335a4a91-7026-46f5-91a9-8237a41dfae9",
   "metadata": {},
   "source": [
    "#### Q2.Why close() function is used? Why is it important to close a file? "
   ]
  },
  {
   "cell_type": "markdown",
   "id": "a3e164ad-b6ea-435f-8268-c50726f39c68",
   "metadata": {},
   "source": [
    "#### Answer: The close() closes an open file.  Its important to always close the files, in some cases, due to buffering, changes made to a file may not show until you close the file."
   ]
  },
  {
   "cell_type": "markdown",
   "id": "bb74fe7c-c3b2-42fc-ae20-567d6b18c824",
   "metadata": {},
   "source": [
    "#### Q3.Write a python program to create a text file. Write ‘I want to become a Data Scientist’ in that file. Then  close the file. Open this file and read the content of the file.  "
   ]
  },
  {
   "cell_type": "code",
   "execution_count": 21,
   "id": "822e840b-8d67-4d36-ab3a-57d8136d211c",
   "metadata": {},
   "outputs": [
    {
     "name": "stdout",
     "output_type": "stream",
     "text": [
      "I want to become a Data ScientistI want to become a Data ScientistI want to become a Data ScientistI want to become a Data ScientistI want to become a Data ScientistI want to become a Data ScientistI want to become a Data ScientistSee you soon!See you soon!See you soon!See you soon!See you soon!Over and out.See you soon!I want to become a Data Scientist\n"
     ]
    }
   ],
   "source": [
    "# program to create a text file \n",
    "f = open(\"test.txt\",'a')\n",
    "f.write(\"I want to become a Data Scientist\")\n",
    "f.close()\n",
    "\n",
    "f = open(\"test.txt\", \"r\")\n",
    "print(f.read())"
   ]
  },
  {
   "cell_type": "markdown",
   "id": "de54ed6c-1681-4d80-a018-aca78e4e92a1",
   "metadata": {},
   "source": [
    "#### Q4.Explain the following with python code: read(), readline() and readlines(). "
   ]
  },
  {
   "cell_type": "markdown",
   "id": "a97abdf3-da2b-4f92-9243-ffb126692013",
   "metadata": {},
   "source": [
    "#### Answer:The read() method returns the specified number of bytes from the file. Default is -1 which means the whole fil"
   ]
  },
  {
   "cell_type": "code",
   "execution_count": 22,
   "id": "6c4e1ce9-4b02-493e-a07b-d82459e9ef71",
   "metadata": {},
   "outputs": [
    {
     "name": "stdout",
     "output_type": "stream",
     "text": [
      "I want to become a Data ScientistI want to become a Data ScientistI want to become a Data ScientistI want to become a Data ScientistI want to become a Data ScientistI want to become a Data ScientistI want to become a Data ScientistSee you soon!See you soon!See you soon!See you soon!See you soon!Over and out.See you soon!I want to become a Data Scientist\n"
     ]
    }
   ],
   "source": [
    "# code for read()\n",
    "f = open(\"test.txt\", \"r\")\n",
    "print(f.read())"
   ]
  },
  {
   "cell_type": "markdown",
   "id": "c78a1153-f791-4351-849d-bafd14604a32",
   "metadata": {},
   "source": [
    "#### The readline() method returns one line from the file. You can also specified how many bytes from the line to return, by using the size parameter."
   ]
  },
  {
   "cell_type": "code",
   "execution_count": 12,
   "id": "eddebd0f-d7bb-4221-b228-651966a2904a",
   "metadata": {},
   "outputs": [
    {
     "name": "stdout",
     "output_type": "stream",
     "text": [
      "I want to become a Data ScientistI want to become a Data ScientistI want to become a Data ScientistI want to become a Data ScientistI want to become a Data ScientistI want to become a Data Scientist\n"
     ]
    }
   ],
   "source": [
    "# code for readline\n",
    "f = open(\"test.txt\", \"r\")\n",
    "print(f.readline())"
   ]
  },
  {
   "cell_type": "markdown",
   "id": "daa0b3a5-b986-443c-a5ac-13138726147a",
   "metadata": {},
   "source": [
    "#### The readlines() method returns a list containing each line in the file as a list item. Use the hint parameter to limit the number of lines returned. If the total number of bytes returned exceeds the specified number, no more lines are returned."
   ]
  },
  {
   "cell_type": "code",
   "execution_count": 14,
   "id": "6a1fbf3f-96d5-48f1-a996-2db0c136e3af",
   "metadata": {},
   "outputs": [
    {
     "name": "stdout",
     "output_type": "stream",
     "text": [
      "['I want to become a Data ScientistI want to become a Data ScientistI want to become a Data ScientistI want to become a Data ScientistI want to become a Data ScientistI want to become a Data ScientistI want to become a Data Scientist']\n"
     ]
    }
   ],
   "source": [
    "# code for readlines\n",
    "f = open(\"test.txt\", \"r\")\n",
    "print(f.readlines())"
   ]
  },
  {
   "cell_type": "markdown",
   "id": "c346aa9f-ea3b-46b8-9277-9a8128678e6f",
   "metadata": {},
   "source": [
    "#### Q5.Explain why with statement is used with open(). What is the advantage of using with statement and  open() together?"
   ]
  },
  {
   "cell_type": "markdown",
   "id": "f11b6917-18f1-4c8c-be62-c79120847331",
   "metadata": {},
   "source": [
    "#### Answer: Using with means that the file will be closed as soon as you leave the block. This is beneficial because closing a file is something that can easily be forgotten and ties up resources that you no longer need.\n",
    "#### Advantages:  with statement is used with open() in exception handling to make the code cleaner and much more readable. It simplifies the management of common resources like file streams."
   ]
  },
  {
   "cell_type": "markdown",
   "id": "d3fabfec-549e-4427-96e2-dda80dbc94fe",
   "metadata": {},
   "source": [
    "#### Q6.Explain the write() and writelines() functions. Give a suitable example."
   ]
  },
  {
   "cell_type": "markdown",
   "id": "304099ad-9261-453b-b557-2e108bcca37c",
   "metadata": {},
   "source": [
    "#### Answer: write() = The write() method writes a specified text to the file."
   ]
  },
  {
   "cell_type": "code",
   "execution_count": 20,
   "id": "631897a7-695d-45d0-a3f1-54427024464f",
   "metadata": {},
   "outputs": [],
   "source": [
    "# code for write\n",
    "f = open(\"test.txt\", \"a\")\n",
    "f.write(\"See you soon!\")\n",
    "f.close()"
   ]
  },
  {
   "cell_type": "markdown",
   "id": "3a234137-1c3d-4255-a05d-81328833f82b",
   "metadata": {},
   "source": [
    "#### writelines() = The writelines() method writes the items of a list to the file."
   ]
  },
  {
   "cell_type": "code",
   "execution_count": 19,
   "id": "06783d20-adc5-4572-853d-77da5a950022",
   "metadata": {},
   "outputs": [
    {
     "name": "stdout",
     "output_type": "stream",
     "text": [
      "I want to become a Data ScientistI want to become a Data ScientistI want to become a Data ScientistI want to become a Data ScientistI want to become a Data ScientistI want to become a Data ScientistI want to become a Data ScientistSee you soon!See you soon!See you soon!See you soon!See you soon!Over and out.\n"
     ]
    }
   ],
   "source": [
    "# code for writeliness \n",
    "f = open(\"test.txt\", \"a\")\n",
    "f.writelines([\"See you soon!\", \"Over and out.\"])\n",
    "f.close()\n",
    "\n",
    "#open and read the file after the appending:\n",
    "f = open(\"test.txt\", \"r\")\n",
    "print(f.read())"
   ]
  },
  {
   "cell_type": "code",
   "execution_count": null,
   "id": "3370206e-95d8-45f2-8aac-57b561e03041",
   "metadata": {},
   "outputs": [],
   "source": []
  }
 ],
 "metadata": {
  "kernelspec": {
   "display_name": "Python 3 (ipykernel)",
   "language": "python",
   "name": "python3"
  },
  "language_info": {
   "codemirror_mode": {
    "name": "ipython",
    "version": 3
   },
   "file_extension": ".py",
   "mimetype": "text/x-python",
   "name": "python",
   "nbconvert_exporter": "python",
   "pygments_lexer": "ipython3",
   "version": "3.10.8"
  }
 },
 "nbformat": 4,
 "nbformat_minor": 5
}
